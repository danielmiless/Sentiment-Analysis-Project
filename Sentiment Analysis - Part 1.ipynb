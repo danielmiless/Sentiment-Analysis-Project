{
 "cells": [
  {
   "cell_type": "code",
   "execution_count": 300,
   "metadata": {},
   "outputs": [],
   "source": [
    "# Import data organization libraries\n",
    "import pandas as pd\n",
    "pd.set_option('display.max_colwidth', 200)"
   ]
  },
  {
   "cell_type": "code",
   "execution_count": 301,
   "metadata": {},
   "outputs": [
    {
     "data": {
      "text/html": [
       "<div>\n",
       "<style scoped>\n",
       "    .dataframe tbody tr th:only-of-type {\n",
       "        vertical-align: middle;\n",
       "    }\n",
       "\n",
       "    .dataframe tbody tr th {\n",
       "        vertical-align: top;\n",
       "    }\n",
       "\n",
       "    .dataframe thead th {\n",
       "        text-align: right;\n",
       "    }\n",
       "</style>\n",
       "<table border=\"1\" class=\"dataframe\">\n",
       "  <thead>\n",
       "    <tr style=\"text-align: right;\">\n",
       "      <th></th>\n",
       "      <th>id</th>\n",
       "      <th>label</th>\n",
       "      <th>tweet</th>\n",
       "    </tr>\n",
       "  </thead>\n",
       "  <tbody>\n",
       "    <tr>\n",
       "      <th>0</th>\n",
       "      <td>1</td>\n",
       "      <td>0</td>\n",
       "      <td>#fingerprint #Pregnancy Test https://goo.gl/h1MfQV #android #apps #beautiful #cute #health #igers #iphoneonly #iphonesia #iphone</td>\n",
       "    </tr>\n",
       "    <tr>\n",
       "      <th>1</th>\n",
       "      <td>2</td>\n",
       "      <td>0</td>\n",
       "      <td>Finally a transparant silicon case ^^ Thanks to my uncle :) #yay #Sony #Xperia #S #sonyexperias… http://instagram.com/p/YGEt5JC6JM/</td>\n",
       "    </tr>\n",
       "    <tr>\n",
       "      <th>2</th>\n",
       "      <td>3</td>\n",
       "      <td>0</td>\n",
       "      <td>We love this! Would you go? #talk #makememories #unplug #relax #iphone #smartphone #wifi #connect... http://fb.me/6N3LsUpCu</td>\n",
       "    </tr>\n",
       "    <tr>\n",
       "      <th>3</th>\n",
       "      <td>4</td>\n",
       "      <td>0</td>\n",
       "      <td>I'm wired I know I'm George I was made that way ;) #iphone #cute #daventry #home http://instagr.am/p/Li_5_ujS4k/</td>\n",
       "    </tr>\n",
       "    <tr>\n",
       "      <th>4</th>\n",
       "      <td>5</td>\n",
       "      <td>1</td>\n",
       "      <td>What amazing service! Apple won't even talk to me about a question I have unless I pay them $19.95 for their stupid support!</td>\n",
       "    </tr>\n",
       "  </tbody>\n",
       "</table>\n",
       "</div>"
      ],
      "text/plain": [
       "   id  label  \\\n",
       "0   1      0   \n",
       "1   2      0   \n",
       "2   3      0   \n",
       "3   4      0   \n",
       "4   5      1   \n",
       "\n",
       "                                                                                                                                 tweet  \n",
       "0     #fingerprint #Pregnancy Test https://goo.gl/h1MfQV #android #apps #beautiful #cute #health #igers #iphoneonly #iphonesia #iphone  \n",
       "1  Finally a transparant silicon case ^^ Thanks to my uncle :) #yay #Sony #Xperia #S #sonyexperias… http://instagram.com/p/YGEt5JC6JM/  \n",
       "2          We love this! Would you go? #talk #makememories #unplug #relax #iphone #smartphone #wifi #connect... http://fb.me/6N3LsUpCu  \n",
       "3                     I'm wired I know I'm George I was made that way ;) #iphone #cute #daventry #home http://instagr.am/p/Li_5_ujS4k/  \n",
       "4         What amazing service! Apple won't even talk to me about a question I have unless I pay them $19.95 for their stupid support!  "
      ]
     },
     "execution_count": 301,
     "metadata": {},
     "output_type": "execute_result"
    }
   ],
   "source": [
    "# Read data into Pandas Dataframe\n",
    "data = pd.read_csv('tweet_data.csv')\n",
    "data.head()"
   ]
  },
  {
   "cell_type": "markdown",
   "metadata": {},
   "source": [
    "##### 0 refers to positive sentiment, 1 refers to negative sentiment"
   ]
  },
  {
   "cell_type": "code",
   "execution_count": 302,
   "metadata": {},
   "outputs": [
    {
     "name": "stdout",
     "output_type": "stream",
     "text": [
      "<class 'pandas.core.frame.DataFrame'>\n",
      "RangeIndex: 7920 entries, 0 to 7919\n",
      "Data columns (total 3 columns):\n",
      " #   Column  Non-Null Count  Dtype \n",
      "---  ------  --------------  ----- \n",
      " 0   id      7920 non-null   int64 \n",
      " 1   label   7920 non-null   int64 \n",
      " 2   tweet   7920 non-null   object\n",
      "dtypes: int64(2), object(1)\n",
      "memory usage: 185.8+ KB\n"
     ]
    }
   ],
   "source": [
    "# Check data types\n",
    "data.info()"
   ]
  },
  {
   "cell_type": "code",
   "execution_count": 303,
   "metadata": {},
   "outputs": [
    {
     "data": {
      "text/plain": [
       "id       0\n",
       "label    0\n",
       "tweet    0\n",
       "dtype: int64"
      ]
     },
     "execution_count": 303,
     "metadata": {},
     "output_type": "execute_result"
    }
   ],
   "source": [
    "# Check for missing values\n",
    "data.isnull().sum()"
   ]
  },
  {
   "cell_type": "code",
   "execution_count": 304,
   "metadata": {},
   "outputs": [
    {
     "data": {
      "text/html": [
       "<div>\n",
       "<style scoped>\n",
       "    .dataframe tbody tr th:only-of-type {\n",
       "        vertical-align: middle;\n",
       "    }\n",
       "\n",
       "    .dataframe tbody tr th {\n",
       "        vertical-align: top;\n",
       "    }\n",
       "\n",
       "    .dataframe thead th {\n",
       "        text-align: right;\n",
       "    }\n",
       "</style>\n",
       "<table border=\"1\" class=\"dataframe\">\n",
       "  <thead>\n",
       "    <tr style=\"text-align: right;\">\n",
       "      <th></th>\n",
       "      <th>label</th>\n",
       "      <th>tweet</th>\n",
       "    </tr>\n",
       "  </thead>\n",
       "  <tbody>\n",
       "    <tr>\n",
       "      <th>0</th>\n",
       "      <td>0</td>\n",
       "      <td>#fingerprint #Pregnancy Test https://goo.gl/h1MfQV #android #apps #beautiful #cute #health #igers #iphoneonly #iphonesia #iphone</td>\n",
       "    </tr>\n",
       "    <tr>\n",
       "      <th>1</th>\n",
       "      <td>0</td>\n",
       "      <td>Finally a transparant silicon case ^^ Thanks to my uncle :) #yay #Sony #Xperia #S #sonyexperias… http://instagram.com/p/YGEt5JC6JM/</td>\n",
       "    </tr>\n",
       "    <tr>\n",
       "      <th>2</th>\n",
       "      <td>0</td>\n",
       "      <td>We love this! Would you go? #talk #makememories #unplug #relax #iphone #smartphone #wifi #connect... http://fb.me/6N3LsUpCu</td>\n",
       "    </tr>\n",
       "    <tr>\n",
       "      <th>3</th>\n",
       "      <td>0</td>\n",
       "      <td>I'm wired I know I'm George I was made that way ;) #iphone #cute #daventry #home http://instagr.am/p/Li_5_ujS4k/</td>\n",
       "    </tr>\n",
       "    <tr>\n",
       "      <th>4</th>\n",
       "      <td>1</td>\n",
       "      <td>What amazing service! Apple won't even talk to me about a question I have unless I pay them $19.95 for their stupid support!</td>\n",
       "    </tr>\n",
       "  </tbody>\n",
       "</table>\n",
       "</div>"
      ],
      "text/plain": [
       "   label  \\\n",
       "0      0   \n",
       "1      0   \n",
       "2      0   \n",
       "3      0   \n",
       "4      1   \n",
       "\n",
       "                                                                                                                                 tweet  \n",
       "0     #fingerprint #Pregnancy Test https://goo.gl/h1MfQV #android #apps #beautiful #cute #health #igers #iphoneonly #iphonesia #iphone  \n",
       "1  Finally a transparant silicon case ^^ Thanks to my uncle :) #yay #Sony #Xperia #S #sonyexperias… http://instagram.com/p/YGEt5JC6JM/  \n",
       "2          We love this! Would you go? #talk #makememories #unplug #relax #iphone #smartphone #wifi #connect... http://fb.me/6N3LsUpCu  \n",
       "3                     I'm wired I know I'm George I was made that way ;) #iphone #cute #daventry #home http://instagr.am/p/Li_5_ujS4k/  \n",
       "4         What amazing service! Apple won't even talk to me about a question I have unless I pay them $19.95 for their stupid support!  "
      ]
     },
     "execution_count": 304,
     "metadata": {},
     "output_type": "execute_result"
    }
   ],
   "source": [
    "# Drop the id column\n",
    "data.drop('id', axis=1, inplace=True)\n",
    "data.head()"
   ]
  },
  {
   "cell_type": "code",
   "execution_count": 305,
   "metadata": {},
   "outputs": [
    {
     "data": {
      "text/plain": [
       "<Axes: xlabel='label'>"
      ]
     },
     "execution_count": 305,
     "metadata": {},
     "output_type": "execute_result"
    },
    {
     "data": {
      "image/png": "[encoded data removed]",
      "text/plain": [
       "<Figure size 640x480 with 1 Axes>"
      ]
     },
     "metadata": {},
     "output_type": "display_data"
    }
   ],
   "source": [
    "# Check for the class balance and plot it\n",
    "data['label'].value_counts(normalize=True)\n",
    "\n",
    "data['label'].value_counts().plot(kind='bar')"
   ]
  },
  {
   "cell_type": "code",
   "execution_count": 306,
   "metadata": {},
   "outputs": [
    {
     "data": {
      "text/plain": [
       "\"It's time for new wallpapers #phone #wallpapers #wall #screen #galaxy #samsung #app … https://www.instagram.com/p/BcsKTNNn51c/\""
      ]
     },
     "execution_count": 306,
     "metadata": {},
     "output_type": "execute_result"
    }
   ],
   "source": [
    "data['tweet'][24]"
   ]
  },
  {
   "cell_type": "code",
   "execution_count": 307,
   "metadata": {},
   "outputs": [],
   "source": [
    "import re"
   ]
  },
  {
   "cell_type": "code",
   "execution_count": 308,
   "metadata": {},
   "outputs": [
    {
     "data": {
      "text/plain": [
       "'It is time for new wallpapers #phone #wallpapers #wall #screen #galaxy #samsung #app … https://www.instagram.com/p/BcsKTNNn51c/'"
      ]
     },
     "execution_count": 308,
     "metadata": {},
     "output_type": "execute_result"
    }
   ],
   "source": [
    "# Substitute 's with \" is\"\n",
    "re.sub(r\"'s\\b\", \" is\", data['tweet'][24])"
   ]
  },
  {
   "cell_type": "code",
   "execution_count": 309,
   "metadata": {},
   "outputs": [
    {
     "data": {
      "text/plain": [
       "'Ha! Not heavy machinery but it does what I need it to. @Apple really dropped the ball with that design. #drinkyourhaterade'"
      ]
     },
     "execution_count": 309,
     "metadata": {},
     "output_type": "execute_result"
    }
   ],
   "source": [
    "# Removing the user mentions\n",
    "data['tweet'][11]"
   ]
  },
  {
   "cell_type": "code",
   "execution_count": 310,
   "metadata": {},
   "outputs": [
    {
     "data": {
      "text/plain": [
       "'Ha! Not heavy machinery but it does what I need it to.  really dropped the ball with that design. #drinkyourhaterade'"
      ]
     },
     "execution_count": 310,
     "metadata": {},
     "output_type": "execute_result"
    }
   ],
   "source": [
    "# We'll retain the letters and digits\n",
    "re.sub('@[A-Za-z0-9]+', '', data['tweet'][11])"
   ]
  },
  {
   "cell_type": "code",
   "execution_count": 311,
   "metadata": {},
   "outputs": [
    {
     "data": {
      "text/plain": [
       "'#fingerprint #Pregnancy Test https://goo.gl/h1MfQV #android #apps #beautiful #cute #health #igers #iphoneonly #iphonesia #iphone'"
      ]
     },
     "execution_count": 311,
     "metadata": {},
     "output_type": "execute_result"
    }
   ],
   "source": [
    "# Remove the hashtags\n",
    "data['tweet'][0]"
   ]
  },
  {
   "cell_type": "code",
   "execution_count": 312,
   "metadata": {},
   "outputs": [
    {
     "data": {
      "text/plain": [
       "'fingerprint Pregnancy Test https://goo.gl/h1MfQV android apps beautiful cute health igers iphoneonly iphonesia iphone'"
      ]
     },
     "execution_count": 312,
     "metadata": {},
     "output_type": "execute_result"
    }
   ],
   "source": [
    "re.sub('#', '', data['tweet'][0])"
   ]
  },
  {
   "cell_type": "code",
   "execution_count": 313,
   "metadata": {},
   "outputs": [
    {
     "data": {
      "text/plain": [
       "'#fingerprint #Pregnancy Test  #android #apps #beautiful #cute #health #igers #iphoneonly #iphonesia #iphone'"
      ]
     },
     "execution_count": 313,
     "metadata": {},
     "output_type": "execute_result"
    }
   ],
   "source": [
    "# Removing the hyperlinks\n",
    "re.sub(r\"http\\S+\", '', data['tweet'][0])"
   ]
  },
  {
   "cell_type": "code",
   "execution_count": 314,
   "metadata": {},
   "outputs": [
    {
     "data": {
      "text/plain": [
       "'1.05 billion for 3 patents where there is prior art = 300 millions each = patent trolls are partying now thanks to Apple #apple'"
      ]
     },
     "execution_count": 314,
     "metadata": {},
     "output_type": "execute_result"
    }
   ],
   "source": [
    "# Retain the letters (get rid of punctuations, special characters, and digits)\n",
    "data['tweet'][25]"
   ]
  },
  {
   "cell_type": "code",
   "execution_count": 315,
   "metadata": {},
   "outputs": [
    {
     "data": {
      "text/plain": [
       "'     billion for   patents where there is prior art       millions each   patent trolls are partying now thanks to Apple  apple'"
      ]
     },
     "execution_count": 315,
     "metadata": {},
     "output_type": "execute_result"
    }
   ],
   "source": [
    "re.sub(r'[^a-zA-Z]', ' ', data['tweet'][25])"
   ]
  },
  {
   "cell_type": "markdown",
   "metadata": {},
   "source": [
    "### Stop words removal\n",
    "\n",
    "Stop words are the words that are commonly used in any language. These words do not add any meaning to the text. For example, in the sentence, \"The sky is blue in color\", \n",
    "the words \"the\" and \"is\" do not add any meaning to the sentence. These words can be removed from the text to reduce the dimensionality of the data and hence, the processing time.\n",
    "\n",
    "Natural Language Toolkit (NLTK) is a Python library that provides modules for processing text, tokenizing, parsing, etc."
   ]
  },
  {
   "cell_type": "code",
   "execution_count": 316,
   "metadata": {},
   "outputs": [],
   "source": [
    "import nltk\n",
    "#nltk.download('stopwords')\n",
    "from nltk.corpus import stopwords"
   ]
  },
  {
   "cell_type": "code",
   "execution_count": 317,
   "metadata": {},
   "outputs": [
    {
     "data": {
      "text/plain": [
       "{'a',\n",
       " 'about',\n",
       " 'above',\n",
       " 'after',\n",
       " 'again',\n",
       " 'against',\n",
       " 'ain',\n",
       " 'all',\n",
       " 'am',\n",
       " 'an',\n",
       " 'and',\n",
       " 'any',\n",
       " 'are',\n",
       " 'aren',\n",
       " \"aren't\",\n",
       " 'as',\n",
       " 'at',\n",
       " 'be',\n",
       " 'because',\n",
       " 'been',\n",
       " 'before',\n",
       " 'being',\n",
       " 'below',\n",
       " 'between',\n",
       " 'both',\n",
       " 'but',\n",
       " 'by',\n",
       " 'can',\n",
       " 'couldn',\n",
       " \"couldn't\",\n",
       " 'd',\n",
       " 'did',\n",
       " 'didn',\n",
       " \"didn't\",\n",
       " 'do',\n",
       " 'does',\n",
       " 'doesn',\n",
       " \"doesn't\",\n",
       " 'doing',\n",
       " 'don',\n",
       " \"don't\",\n",
       " 'down',\n",
       " 'during',\n",
       " 'each',\n",
       " 'few',\n",
       " 'for',\n",
       " 'from',\n",
       " 'further',\n",
       " 'had',\n",
       " 'hadn',\n",
       " \"hadn't\",\n",
       " 'has',\n",
       " 'hasn',\n",
       " \"hasn't\",\n",
       " 'have',\n",
       " 'haven',\n",
       " \"haven't\",\n",
       " 'having',\n",
       " 'he',\n",
       " 'her',\n",
       " 'here',\n",
       " 'hers',\n",
       " 'herself',\n",
       " 'him',\n",
       " 'himself',\n",
       " 'his',\n",
       " 'how',\n",
       " 'i',\n",
       " 'if',\n",
       " 'in',\n",
       " 'into',\n",
       " 'is',\n",
       " 'isn',\n",
       " \"isn't\",\n",
       " 'it',\n",
       " \"it's\",\n",
       " 'its',\n",
       " 'itself',\n",
       " 'just',\n",
       " 'll',\n",
       " 'm',\n",
       " 'ma',\n",
       " 'me',\n",
       " 'mightn',\n",
       " \"mightn't\",\n",
       " 'more',\n",
       " 'most',\n",
       " 'mustn',\n",
       " \"mustn't\",\n",
       " 'my',\n",
       " 'myself',\n",
       " 'needn',\n",
       " \"needn't\",\n",
       " 'no',\n",
       " 'nor',\n",
       " 'not',\n",
       " 'now',\n",
       " 'o',\n",
       " 'of',\n",
       " 'off',\n",
       " 'on',\n",
       " 'once',\n",
       " 'only',\n",
       " 'or',\n",
       " 'other',\n",
       " 'our',\n",
       " 'ours',\n",
       " 'ourselves',\n",
       " 'out',\n",
       " 'over',\n",
       " 'own',\n",
       " 're',\n",
       " 's',\n",
       " 'same',\n",
       " 'shan',\n",
       " \"shan't\",\n",
       " 'she',\n",
       " \"she's\",\n",
       " 'should',\n",
       " \"should've\",\n",
       " 'shouldn',\n",
       " \"shouldn't\",\n",
       " 'so',\n",
       " 'some',\n",
       " 'such',\n",
       " 't',\n",
       " 'than',\n",
       " 'that',\n",
       " \"that'll\",\n",
       " 'the',\n",
       " 'their',\n",
       " 'theirs',\n",
       " 'them',\n",
       " 'themselves',\n",
       " 'then',\n",
       " 'there',\n",
       " 'these',\n",
       " 'they',\n",
       " 'this',\n",
       " 'those',\n",
       " 'through',\n",
       " 'to',\n",
       " 'too',\n",
       " 'under',\n",
       " 'until',\n",
       " 'up',\n",
       " 've',\n",
       " 'very',\n",
       " 'was',\n",
       " 'wasn',\n",
       " \"wasn't\",\n",
       " 'we',\n",
       " 'were',\n",
       " 'weren',\n",
       " \"weren't\",\n",
       " 'what',\n",
       " 'when',\n",
       " 'where',\n",
       " 'which',\n",
       " 'while',\n",
       " 'who',\n",
       " 'whom',\n",
       " 'why',\n",
       " 'will',\n",
       " 'with',\n",
       " 'won',\n",
       " \"won't\",\n",
       " 'wouldn',\n",
       " \"wouldn't\",\n",
       " 'y',\n",
       " 'you',\n",
       " \"you'd\",\n",
       " \"you'll\",\n",
       " \"you're\",\n",
       " \"you've\",\n",
       " 'your',\n",
       " 'yours',\n",
       " 'yourself',\n",
       " 'yourselves'}"
      ]
     },
     "execution_count": 317,
     "metadata": {},
     "output_type": "execute_result"
    }
   ],
   "source": [
    "nltk_stopwords = set(stopwords.words('english'))\n",
    "nltk_stopwords\n",
    "#len(nltk_stopwords)"
   ]
  },
  {
   "cell_type": "code",
   "execution_count": 318,
   "metadata": {},
   "outputs": [
    {
     "data": {
      "text/plain": [
       "{'a',\n",
       " 'about',\n",
       " 'above',\n",
       " 'across',\n",
       " 'after',\n",
       " 'afterwards',\n",
       " 'again',\n",
       " 'against',\n",
       " 'all',\n",
       " 'almost',\n",
       " 'alone',\n",
       " 'along',\n",
       " 'already',\n",
       " 'also',\n",
       " 'although',\n",
       " 'always',\n",
       " 'am',\n",
       " 'among',\n",
       " 'amongst',\n",
       " 'amoungst',\n",
       " 'amount',\n",
       " 'an',\n",
       " 'and',\n",
       " 'another',\n",
       " 'any',\n",
       " 'anyhow',\n",
       " 'anyone',\n",
       " 'anything',\n",
       " 'anyway',\n",
       " 'anywhere',\n",
       " 'are',\n",
       " 'around',\n",
       " 'as',\n",
       " 'at',\n",
       " 'back',\n",
       " 'be',\n",
       " 'became',\n",
       " 'because',\n",
       " 'become',\n",
       " 'becomes',\n",
       " 'becoming',\n",
       " 'been',\n",
       " 'before',\n",
       " 'beforehand',\n",
       " 'behind',\n",
       " 'being',\n",
       " 'below',\n",
       " 'beside',\n",
       " 'besides',\n",
       " 'between',\n",
       " 'beyond',\n",
       " 'bill',\n",
       " 'both',\n",
       " 'bottom',\n",
       " 'but',\n",
       " 'by',\n",
       " 'call',\n",
       " 'can',\n",
       " 'cannot',\n",
       " 'cant',\n",
       " 'co',\n",
       " 'con',\n",
       " 'could',\n",
       " 'couldnt',\n",
       " 'cry',\n",
       " 'de',\n",
       " 'describe',\n",
       " 'detail',\n",
       " 'do',\n",
       " 'done',\n",
       " 'down',\n",
       " 'due',\n",
       " 'during',\n",
       " 'each',\n",
       " 'eg',\n",
       " 'eight',\n",
       " 'either',\n",
       " 'eleven',\n",
       " 'else',\n",
       " 'elsewhere',\n",
       " 'empty',\n",
       " 'enough',\n",
       " 'etc',\n",
       " 'even',\n",
       " 'ever',\n",
       " 'every',\n",
       " 'everyone',\n",
       " 'everything',\n",
       " 'everywhere',\n",
       " 'except',\n",
       " 'few',\n",
       " 'fifteen',\n",
       " 'fifty',\n",
       " 'fill',\n",
       " 'find',\n",
       " 'fire',\n",
       " 'first',\n",
       " 'five',\n",
       " 'for',\n",
       " 'former',\n",
       " 'formerly',\n",
       " 'forty',\n",
       " 'found',\n",
       " 'four',\n",
       " 'from',\n",
       " 'front',\n",
       " 'full',\n",
       " 'further',\n",
       " 'get',\n",
       " 'give',\n",
       " 'go',\n",
       " 'had',\n",
       " 'has',\n",
       " 'hasnt',\n",
       " 'have',\n",
       " 'he',\n",
       " 'hence',\n",
       " 'her',\n",
       " 'here',\n",
       " 'hereafter',\n",
       " 'hereby',\n",
       " 'herein',\n",
       " 'hereupon',\n",
       " 'hers',\n",
       " 'herself',\n",
       " 'him',\n",
       " 'himself',\n",
       " 'his',\n",
       " 'how',\n",
       " 'however',\n",
       " 'hundred',\n",
       " 'i',\n",
       " 'ie',\n",
       " 'if',\n",
       " 'in',\n",
       " 'inc',\n",
       " 'indeed',\n",
       " 'interest',\n",
       " 'into',\n",
       " 'is',\n",
       " 'it',\n",
       " 'its',\n",
       " 'itself',\n",
       " 'keep',\n",
       " 'last',\n",
       " 'latter',\n",
       " 'latterly',\n",
       " 'least',\n",
       " 'less',\n",
       " 'ltd',\n",
       " 'made',\n",
       " 'many',\n",
       " 'may',\n",
       " 'me',\n",
       " 'meanwhile',\n",
       " 'might',\n",
       " 'mill',\n",
       " 'mine',\n",
       " 'more',\n",
       " 'moreover',\n",
       " 'most',\n",
       " 'mostly',\n",
       " 'move',\n",
       " 'much',\n",
       " 'must',\n",
       " 'my',\n",
       " 'myself',\n",
       " 'name',\n",
       " 'namely',\n",
       " 'neither',\n",
       " 'never',\n",
       " 'nevertheless',\n",
       " 'next',\n",
       " 'nine',\n",
       " 'no',\n",
       " 'nobody',\n",
       " 'none',\n",
       " 'noone',\n",
       " 'nor',\n",
       " 'not',\n",
       " 'nothing',\n",
       " 'now',\n",
       " 'nowhere',\n",
       " 'of',\n",
       " 'off',\n",
       " 'often',\n",
       " 'on',\n",
       " 'once',\n",
       " 'one',\n",
       " 'only',\n",
       " 'onto',\n",
       " 'or',\n",
       " 'other',\n",
       " 'others',\n",
       " 'otherwise',\n",
       " 'our',\n",
       " 'ours',\n",
       " 'ourselves',\n",
       " 'out',\n",
       " 'over',\n",
       " 'own',\n",
       " 'part',\n",
       " 'per',\n",
       " 'perhaps',\n",
       " 'please',\n",
       " 'put',\n",
       " 'rather',\n",
       " 're',\n",
       " 'same',\n",
       " 'see',\n",
       " 'seem',\n",
       " 'seemed',\n",
       " 'seeming',\n",
       " 'seems',\n",
       " 'serious',\n",
       " 'several',\n",
       " 'she',\n",
       " 'should',\n",
       " 'show',\n",
       " 'side',\n",
       " 'since',\n",
       " 'sincere',\n",
       " 'six',\n",
       " 'sixty',\n",
       " 'so',\n",
       " 'some',\n",
       " 'somehow',\n",
       " 'someone',\n",
       " 'something',\n",
       " 'sometime',\n",
       " 'sometimes',\n",
       " 'somewhere',\n",
       " 'still',\n",
       " 'such',\n",
       " 'system',\n",
       " 'take',\n",
       " 'ten',\n",
       " 'than',\n",
       " 'that',\n",
       " 'the',\n",
       " 'their',\n",
       " 'them',\n",
       " 'themselves',\n",
       " 'then',\n",
       " 'thence',\n",
       " 'there',\n",
       " 'thereafter',\n",
       " 'thereby',\n",
       " 'therefore',\n",
       " 'therein',\n",
       " 'thereupon',\n",
       " 'these',\n",
       " 'they',\n",
       " 'thick',\n",
       " 'thin',\n",
       " 'third',\n",
       " 'this',\n",
       " 'those',\n",
       " 'though',\n",
       " 'three',\n",
       " 'through',\n",
       " 'throughout',\n",
       " 'thru',\n",
       " 'thus',\n",
       " 'to',\n",
       " 'together',\n",
       " 'too',\n",
       " 'top',\n",
       " 'toward',\n",
       " 'towards',\n",
       " 'twelve',\n",
       " 'twenty',\n",
       " 'two',\n",
       " 'un',\n",
       " 'under',\n",
       " 'until',\n",
       " 'up',\n",
       " 'upon',\n",
       " 'us',\n",
       " 'very',\n",
       " 'via',\n",
       " 'was',\n",
       " 'we',\n",
       " 'well',\n",
       " 'were',\n",
       " 'what',\n",
       " 'whatever',\n",
       " 'when',\n",
       " 'whence',\n",
       " 'whenever',\n",
       " 'where',\n",
       " 'whereafter',\n",
       " 'whereas',\n",
       " 'whereby',\n",
       " 'wherein',\n",
       " 'whereupon',\n",
       " 'wherever',\n",
       " 'whether',\n",
       " 'which',\n",
       " 'while',\n",
       " 'whither',\n",
       " 'who',\n",
       " 'whoever',\n",
       " 'whole',\n",
       " 'whom',\n",
       " 'whose',\n",
       " 'why',\n",
       " 'will',\n",
       " 'with',\n",
       " 'within',\n",
       " 'without',\n",
       " 'would',\n",
       " 'yet',\n",
       " 'you',\n",
       " 'your',\n",
       " 'yours',\n",
       " 'yourself',\n",
       " 'yourselves'}"
      ]
     },
     "execution_count": 318,
     "metadata": {},
     "output_type": "execute_result"
    }
   ],
   "source": [
    "# Alternative source of stopwords from Scikit-learn\n",
    "from sklearn.feature_extraction.text import ENGLISH_STOP_WORDS\n",
    "sklearn_stopwords = set(ENGLISH_STOP_WORDS)\n",
    "sklearn_stopwords\n",
    "#len(sklearn_stopwords)"
   ]
  },
  {
   "cell_type": "code",
   "execution_count": 319,
   "metadata": {},
   "outputs": [
    {
     "name": "stdout",
     "output_type": "stream",
     "text": [
      "{'which', 'again', 'only', 'myself', 'do', 'he', 'has', 'until', 'than', 'ours', 'is', 'not', 'with', 'the', 'no', 'all', 'an', 'there', 'yourselves', 'or', 'you', 'for', 'her', 'so', 'between', 'whom', 'what', 'a', 'and', 'own', 'have', 'now', 'me', 'such', 'out', 'down', 'other', 'to', 'who', 'very', 'i', 'some', 'ourselves', 'those', 'same', 'himself', 'that', 'nor', 'above', 'up', 'my', 'are', 'be', 'in', 'why', 'once', 'will', 'these', 'but', 'if', 'it', 'over', 'through', 'should', 'were', 'further', 'their', 'themselves', 'been', 'its', 'by', 'where', 'she', 'when', 'him', 'we', 'can', 'yourself', 'at', 'while', 'his', 'into', 'few', 'here', 'any', 'then', 'below', 'off', 'being', 'as', 'of', 're', 'after', 'your', 'am', 'hers', 'had', 'about', 'during', 'this', 'both', 'most', 'more', 'was', 'too', 'they', 'under', 'because', 'yours', 'our', 'each', 'on', 'before', 'itself', 'against', 'from', 'how', 'herself', 'them'}\n"
     ]
    },
    {
     "data": {
      "text/plain": [
       "119"
      ]
     },
     "execution_count": 319,
     "metadata": {},
     "output_type": "execute_result"
    }
   ],
   "source": [
    "# Find the overlap of stopwords between NLTK and Scikit-learn\n",
    "print(nltk_stopwords.intersection(sklearn_stopwords))\n",
    "len(nltk_stopwords.intersection(sklearn_stopwords))"
   ]
  },
  {
   "cell_type": "code",
   "execution_count": 320,
   "metadata": {},
   "outputs": [
    {
     "data": {
      "text/plain": [
       "378"
      ]
     },
     "execution_count": 320,
     "metadata": {},
     "output_type": "execute_result"
    }
   ],
   "source": [
    "# Combining the stopwords from NLTK and Scikit-learn\n",
    "combined_stopwords = nltk_stopwords.union(sklearn_stopwords)\n",
    "len(combined_stopwords)"
   ]
  },
  {
   "cell_type": "markdown",
   "metadata": {},
   "source": [
    "### Stemming and Lemmatization\n",
    "\n",
    "Stemming is the process of reducing a word to its stem or root form. For example, the words \"fishing\", \"fished\", \"fisher\" all stem from the word \"fish\". Stemming is a crude method of normalization. It does not always result in a valid word. However, it is fast and useful in some cases.\n",
    "\n",
    "Lemmatization is the process of reducing a word to its lemma or dictionary form. For example, the words \"good\", \"better\", \"best\" all stem from the word \"good\". Lemmatization is a more sophisticated method of normalization. It always results in a valid word. However, it is slower than stemming."
   ]
  },
  {
   "cell_type": "code",
   "execution_count": 321,
   "metadata": {},
   "outputs": [],
   "source": [
    "from nltk.stem import WordNetLemmatizer\n",
    "#nltk.download('wordnet')\n",
    "lemmatizer = WordNetLemmatizer()"
   ]
  },
  {
   "cell_type": "code",
   "execution_count": 322,
   "metadata": {},
   "outputs": [
    {
     "data": {
      "text/plain": [
       "['Gain',\n",
       " 'Followers',\n",
       " 'RT',\n",
       " 'This',\n",
       " 'MUST',\n",
       " 'FOLLOW',\n",
       " 'ME',\n",
       " 'I',\n",
       " 'FOLLOW',\n",
       " 'BACK',\n",
       " 'Follow',\n",
       " 'everyone',\n",
       " 'who',\n",
       " 'rts',\n",
       " 'Gain',\n",
       " '#iphone',\n",
       " '#sougofollow',\n",
       " '#ff',\n",
       " 'i7si']"
      ]
     },
     "execution_count": 322,
     "metadata": {},
     "output_type": "execute_result"
    }
   ],
   "source": [
    "data['tweet'][63].split()"
   ]
  },
  {
   "cell_type": "code",
   "execution_count": 323,
   "metadata": {},
   "outputs": [
    {
     "data": {
      "text/plain": [
       "'gain follower rt this must follow me i follow back follow everyone who rts gain #iphone #sougofollow #ff i7si '"
      ]
     },
     "execution_count": 323,
     "metadata": {},
     "output_type": "execute_result"
    }
   ],
   "source": [
    "# Lemmatize the words in the sentence\n",
    "new_sent = ''\n",
    "for token in data['tweet'][63].split():\n",
    "    new_sent += lemmatizer.lemmatize(token.lower()) + ' '\n",
    "\n",
    "new_sent"
   ]
  },
  {
   "cell_type": "code",
   "execution_count": 324,
   "metadata": {},
   "outputs": [
    {
     "data": {
      "text/plain": [
       "\"It's time for new wallpapers #phone #wallpapers #wall #screen #galaxy #samsung #app … https://www.instagram.com/p/BcsKTNNn51c/\""
      ]
     },
     "execution_count": 324,
     "metadata": {},
     "output_type": "execute_result"
    }
   ],
   "source": [
    "import contractions\n",
    "data['tweet'][24]"
   ]
  },
  {
   "cell_type": "code",
   "execution_count": 325,
   "metadata": {},
   "outputs": [
    {
     "data": {
      "text/plain": [
       "'It is time for new wallpapers #phone #wallpapers #wall #screen #galaxy #samsung #app … https://www.instagram.com/p/BcsKTNNn51c/'"
      ]
     },
     "execution_count": 325,
     "metadata": {},
     "output_type": "execute_result"
    }
   ],
   "source": [
    "# Removes the contractions\n",
    "contractions.fix(data['tweet'][24])"
   ]
  },
  {
   "cell_type": "markdown",
   "metadata": {},
   "source": [
    "## Define the Cleaner Function"
   ]
  },
  {
   "cell_type": "code",
   "execution_count": 326,
   "metadata": {},
   "outputs": [],
   "source": [
    "def tweet_cleaner_without_stopwords(text):\n",
    "    new_text = re.sub(r\"'s\\b\", \" is\", text)\n",
    "    new_text = re.sub(\"#\", \"\", new_text)\n",
    "    new_text = re.sub(r\"http\\S+\", \"\", new_text)\n",
    "    new_text = contractions.fix(new_text)\n",
    "    new_text = re.sub(r\"[^a-zA-Z]\", \" \", new_text)\n",
    "    new_text = new_text.lower().strip()\n",
    "\n",
    "    cleaned_text = ''\n",
    "    for token in new_text.split():\n",
    "        cleaned_text += lemmatizer.lemmatize(token) + ' '\n",
    "\n",
    "    return cleaned_text"
   ]
  },
  {
   "cell_type": "code",
   "execution_count": 327,
   "metadata": {},
   "outputs": [
    {
     "data": {
      "text/plain": [
       "['fingerprint pregnancy test android apps beautiful cute health igers iphoneonly iphonesia iphone ',\n",
       " 'finally a transparant silicon case thanks to my uncle yay sony xperia s sonyexperias ',\n",
       " 'we love this would you go talk makememories unplug relax iphone smartphone wifi connect ',\n",
       " 'i am wired i know i am george i wa made that way iphone cute daventry home ',\n",
       " 'what amazing service apple will not even talk to me about a question i have unless i pay them for their stupid support ']"
      ]
     },
     "execution_count": 327,
     "metadata": {},
     "output_type": "execute_result"
    }
   ],
   "source": [
    "cleaned_tweets = []\n",
    "for twt in data['tweet']:\n",
    "    cleaned_tweets.append(tweet_cleaner_without_stopwords(twt))\n",
    "\n",
    "cleaned_tweets[:5]"
   ]
  },
  {
   "cell_type": "code",
   "execution_count": 328,
   "metadata": {},
   "outputs": [
    {
     "data": {
      "text/plain": [
       "'it is time for new wallpaper phone wallpaper wall screen galaxy samsung app '"
      ]
     },
     "execution_count": 328,
     "metadata": {},
     "output_type": "execute_result"
    }
   ],
   "source": [
    "cleaned_tweets[24]"
   ]
  },
  {
   "cell_type": "code",
   "execution_count": 329,
   "metadata": {},
   "outputs": [
    {
     "data": {
      "text/plain": [
       "'#Apple Bunch if Crooks Refused to repair/replace my beats wireless. Problem rubber on mic coming off microphones stopped working. Said warranty was void because ear piece looked chewed. Bullshit. I don’t have any animals and I would chew on anything I put in my ear. pic.twitter.com/GfgvquEpuC'"
      ]
     },
     "execution_count": 329,
     "metadata": {},
     "output_type": "execute_result"
    }
   ],
   "source": [
    "data['tweet'][1500]"
   ]
  },
  {
   "cell_type": "code",
   "execution_count": 330,
   "metadata": {},
   "outputs": [
    {
     "data": {
      "text/plain": [
       "'apple bunch if crook refused to repair replace my beat wireless problem rubber on mic coming off microphone stopped working said warranty wa void because ear piece looked chewed bullshit i do not have any animal and i would chew on anything i put in my ear pic twitter com gfgvquepuc '"
      ]
     },
     "execution_count": 330,
     "metadata": {},
     "output_type": "execute_result"
    }
   ],
   "source": [
    "cleaned_tweets[1500]"
   ]
  },
  {
   "cell_type": "code",
   "execution_count": 331,
   "metadata": {},
   "outputs": [],
   "source": [
    "# tweet['tweet'].apply(lambda x: tweet_cleaner(x))"
   ]
  },
  {
   "cell_type": "code",
   "execution_count": 332,
   "metadata": {},
   "outputs": [
    {
     "data": {
      "text/html": [
       "<div>\n",
       "<style scoped>\n",
       "    .dataframe tbody tr th:only-of-type {\n",
       "        vertical-align: middle;\n",
       "    }\n",
       "\n",
       "    .dataframe tbody tr th {\n",
       "        vertical-align: top;\n",
       "    }\n",
       "\n",
       "    .dataframe thead th {\n",
       "        text-align: right;\n",
       "    }\n",
       "</style>\n",
       "<table border=\"1\" class=\"dataframe\">\n",
       "  <thead>\n",
       "    <tr style=\"text-align: right;\">\n",
       "      <th></th>\n",
       "      <th>label</th>\n",
       "      <th>tweet</th>\n",
       "      <th>cleaned_tweets_w/o_SW</th>\n",
       "    </tr>\n",
       "  </thead>\n",
       "  <tbody>\n",
       "    <tr>\n",
       "      <th>0</th>\n",
       "      <td>0</td>\n",
       "      <td>#fingerprint #Pregnancy Test https://goo.gl/h1MfQV #android #apps #beautiful #cute #health #igers #iphoneonly #iphonesia #iphone</td>\n",
       "      <td>fingerprint pregnancy test android apps beautiful cute health igers iphoneonly iphonesia iphone</td>\n",
       "    </tr>\n",
       "    <tr>\n",
       "      <th>1</th>\n",
       "      <td>0</td>\n",
       "      <td>Finally a transparant silicon case ^^ Thanks to my uncle :) #yay #Sony #Xperia #S #sonyexperias… http://instagram.com/p/YGEt5JC6JM/</td>\n",
       "      <td>finally a transparant silicon case thanks to my uncle yay sony xperia s sonyexperias</td>\n",
       "    </tr>\n",
       "    <tr>\n",
       "      <th>2</th>\n",
       "      <td>0</td>\n",
       "      <td>We love this! Would you go? #talk #makememories #unplug #relax #iphone #smartphone #wifi #connect... http://fb.me/6N3LsUpCu</td>\n",
       "      <td>we love this would you go talk makememories unplug relax iphone smartphone wifi connect</td>\n",
       "    </tr>\n",
       "    <tr>\n",
       "      <th>3</th>\n",
       "      <td>0</td>\n",
       "      <td>I'm wired I know I'm George I was made that way ;) #iphone #cute #daventry #home http://instagr.am/p/Li_5_ujS4k/</td>\n",
       "      <td>i am wired i know i am george i wa made that way iphone cute daventry home</td>\n",
       "    </tr>\n",
       "    <tr>\n",
       "      <th>4</th>\n",
       "      <td>1</td>\n",
       "      <td>What amazing service! Apple won't even talk to me about a question I have unless I pay them $19.95 for their stupid support!</td>\n",
       "      <td>what amazing service apple will not even talk to me about a question i have unless i pay them for their stupid support</td>\n",
       "    </tr>\n",
       "  </tbody>\n",
       "</table>\n",
       "</div>"
      ],
      "text/plain": [
       "   label  \\\n",
       "0      0   \n",
       "1      0   \n",
       "2      0   \n",
       "3      0   \n",
       "4      1   \n",
       "\n",
       "                                                                                                                                 tweet  \\\n",
       "0     #fingerprint #Pregnancy Test https://goo.gl/h1MfQV #android #apps #beautiful #cute #health #igers #iphoneonly #iphonesia #iphone   \n",
       "1  Finally a transparant silicon case ^^ Thanks to my uncle :) #yay #Sony #Xperia #S #sonyexperias… http://instagram.com/p/YGEt5JC6JM/   \n",
       "2          We love this! Would you go? #talk #makememories #unplug #relax #iphone #smartphone #wifi #connect... http://fb.me/6N3LsUpCu   \n",
       "3                     I'm wired I know I'm George I was made that way ;) #iphone #cute #daventry #home http://instagr.am/p/Li_5_ujS4k/   \n",
       "4         What amazing service! Apple won't even talk to me about a question I have unless I pay them $19.95 for their stupid support!   \n",
       "\n",
       "                                                                                                     cleaned_tweets_w/o_SW  \n",
       "0                         fingerprint pregnancy test android apps beautiful cute health igers iphoneonly iphonesia iphone   \n",
       "1                                    finally a transparant silicon case thanks to my uncle yay sony xperia s sonyexperias   \n",
       "2                                 we love this would you go talk makememories unplug relax iphone smartphone wifi connect   \n",
       "3                                              i am wired i know i am george i wa made that way iphone cute daventry home   \n",
       "4  what amazing service apple will not even talk to me about a question i have unless i pay them for their stupid support   "
      ]
     },
     "execution_count": 332,
     "metadata": {},
     "output_type": "execute_result"
    }
   ],
   "source": [
    "data['cleaned_tweets_w/o_SW'] = cleaned_tweets\n",
    "data.head()"
   ]
  },
  {
   "cell_type": "markdown",
   "metadata": {},
   "source": [
    "### Data Visualization"
   ]
  },
  {
   "cell_type": "code",
   "execution_count": 333,
   "metadata": {},
   "outputs": [
    {
     "name": "stdout",
     "output_type": "stream",
     "text": [
      "['#fingerprint', '#Pregnancy', 'Test', 'https://goo.gl/h1MfQV', '#android', '#apps', '#beautiful', '#cute', '#health', '#igers', '#iphoneonly', '#iphonesia', '#iphone', 'Finally', 'a', 'transparant', 'silicon', 'case', '^^', 'Thanks', 'to', 'my', 'uncle', ':)', '#yay', '#Sony', '#Xperia', '#S', '#sonyexperias…', 'http://instagram.com/p/YGEt5JC6JM/', 'We', 'love', 'this!', 'Would', 'you', 'go?', '#talk', '#makememories', '#unplug', '#relax', '#iphone', '#smartphone', '#wifi', '#connect...', 'http://fb.me/6N3LsUpCu', \"I'm\", 'wired', 'I', 'know', \"I'm\"]\n"
     ]
    },
    {
     "data": {
      "text/plain": [
       "34348"
      ]
     },
     "execution_count": 333,
     "metadata": {},
     "output_type": "execute_result"
    }
   ],
   "source": [
    "# Plot the 25 most common words in this tweets dataset\n",
    "all_words = []\n",
    "for t in data['tweet']:\n",
    "    all_words.extend(t.split())\n",
    "\n",
    "print(all_words[:50])\n",
    "len(set(all_words)) # number of unique words in the list"
   ]
  },
  {
   "cell_type": "code",
   "execution_count": 334,
   "metadata": {},
   "outputs": [],
   "source": [
    "import matplotlib.pyplot as plt"
   ]
  },
  {
   "cell_type": "code",
   "execution_count": 335,
   "metadata": {},
   "outputs": [
    {
     "data": {
      "image/png": "[encoded data removed]",
      "text/plain": [
       "<Figure size 1200x500 with 1 Axes>"
      ]
     },
     "metadata": {},
     "output_type": "display_data"
    }
   ],
   "source": [
    "# Frequency Distribution\n",
    "freq_dist = nltk.FreqDist(all_words)\n",
    "\n",
    "plt.figure(figsize=(12, 5))\n",
    "plt.title('Top 25 Most Common Words')\n",
    "plt.xticks(fontsize=15)\n",
    "\n",
    "freq_dist.plot(25, cumulative=False)\n",
    "\n",
    "plt.show()"
   ]
  },
  {
   "cell_type": "markdown",
   "metadata": {},
   "source": [
    "This data visualization is essentially useless outside of some information gained about how people are talking about iPhone, Apple, Samsung, and Sony. No contextual information can be gained about those topics. This is because the original tweet data was used and not the cleaned data."
   ]
  },
  {
   "cell_type": "code",
   "execution_count": 336,
   "metadata": {},
   "outputs": [
    {
     "name": "stdout",
     "output_type": "stream",
     "text": [
      "['fingerprint', 'pregnancy', 'test', 'android', 'apps', 'beautiful', 'cute', 'health', 'igers', 'iphoneonly', 'iphonesia', 'iphone', 'finally', 'a', 'transparant', 'silicon', 'case', 'thanks', 'to', 'my', 'uncle', 'yay', 'sony', 'xperia', 's', 'sonyexperias', 'we', 'love', 'this', 'would', 'you', 'go', 'talk', 'makememories', 'unplug', 'relax', 'iphone', 'smartphone', 'wifi', 'connect', 'i', 'am', 'wired', 'i', 'know', 'i', 'am', 'george', 'i', 'wa']\n"
     ]
    },
    {
     "data": {
      "text/plain": [
       "16807"
      ]
     },
     "execution_count": 336,
     "metadata": {},
     "output_type": "execute_result"
    }
   ],
   "source": [
    "# Data Visualization for Cleaned Data\n",
    "all_words = []\n",
    "for t in data['cleaned_tweets_w/o_SW']:\n",
    "    all_words.extend(t.split())\n",
    "\n",
    "print(all_words[:50])\n",
    "len(set(all_words)) # number of unique words in the list"
   ]
  },
  {
   "cell_type": "code",
   "execution_count": 337,
   "metadata": {},
   "outputs": [
    {
     "data": {
      "image/png": "[encoded data removed]",
      "text/plain": [
       "<Figure size 1200x500 with 1 Axes>"
      ]
     },
     "metadata": {},
     "output_type": "display_data"
    }
   ],
   "source": [
    "# Frequency Distribution\n",
    "freq_dist = nltk.FreqDist(all_words)\n",
    "\n",
    "plt.figure(figsize=(12, 5))\n",
    "plt.title('Top 25 Most Common Words After Cleaning')\n",
    "plt.xticks(fontsize=15)\n",
    "\n",
    "freq_dist.plot(25, cumulative=False)\n",
    "\n",
    "plt.show()"
   ]
  },
  {
   "cell_type": "markdown",
   "metadata": {},
   "source": [
    "This data visualization is going in the right direction, however, there are still many words that have no meaning (stop words). These words should be removed from the data. Additionally, these removed stop words will reduce the dimensionality of the data and hence, the processing time and complexity."
   ]
  },
  {
   "cell_type": "code",
   "execution_count": 338,
   "metadata": {},
   "outputs": [],
   "source": [
    "# Apply stopwords removal\n",
    "def tweet_cleaner_with_stopwords(text):\n",
    "    new_text = re.sub(r\"'s\\b\", \" is\", text)\n",
    "    new_text = re.sub(\"#\", \"\", new_text)\n",
    "    new_text = re.sub(r\"http\\S+\", \"\", new_text)\n",
    "    new_text = contractions.fix(new_text)\n",
    "    new_text = re.sub(r\"[^a-zA-Z]\", \" \", new_text)\n",
    "    new_text = new_text.lower().strip()\n",
    "\n",
    "    new_text = [token for token in new_text.split() if token not in combined_stopwords]\n",
    "\n",
    "    cleaned_text = ''\n",
    "    for token in new_text:\n",
    "        cleaned_text += lemmatizer.lemmatize(token) + ' '\n",
    "\n",
    "    return cleaned_text"
   ]
  },
  {
   "cell_type": "code",
   "execution_count": 339,
   "metadata": {},
   "outputs": [
    {
     "name": "stdout",
     "output_type": "stream",
     "text": [
      "['fingerprint pregnancy test android apps beautiful cute health igers iphoneonly iphonesia iphone ', 'finally transparant silicon case thanks uncle yay sony xperia sonyexperias ', 'love talk makememories unplug relax iphone smartphone wifi connect ', 'wired know george way iphone cute daventry home ', 'amazing service apple talk question unless pay stupid support ', 'iphone software update fucked phone big time stupid iphones ', 'happy instapic instadaily sony xperia xperiaz ', 'new type c charger cable uk bay amazon etsy new year rob cross toby young evemun mcmafia taylor spectre newyear starting recipe technology samsunggalaxys iphonex pic twitter com pjiwq wtc ', 'bout shopping listening music iphone justme music likeforlike followforfollow ', 'photo fun selfie pool water sony camera picoftheday sun instagood boy cute outdoor ']\n"
     ]
    }
   ],
   "source": [
    "cleaned_tweets = list(data['tweet'].apply(tweet_cleaner_with_stopwords))\n",
    "print(cleaned_tweets[:10])"
   ]
  },
  {
   "cell_type": "code",
   "execution_count": 340,
   "metadata": {},
   "outputs": [
    {
     "data": {
      "text/html": [
       "<div>\n",
       "<style scoped>\n",
       "    .dataframe tbody tr th:only-of-type {\n",
       "        vertical-align: middle;\n",
       "    }\n",
       "\n",
       "    .dataframe tbody tr th {\n",
       "        vertical-align: top;\n",
       "    }\n",
       "\n",
       "    .dataframe thead th {\n",
       "        text-align: right;\n",
       "    }\n",
       "</style>\n",
       "<table border=\"1\" class=\"dataframe\">\n",
       "  <thead>\n",
       "    <tr style=\"text-align: right;\">\n",
       "      <th></th>\n",
       "      <th>label</th>\n",
       "      <th>tweet</th>\n",
       "      <th>cleaned_tweets_w/o_SW</th>\n",
       "      <th>cleaned_tweets_with_SW</th>\n",
       "    </tr>\n",
       "  </thead>\n",
       "  <tbody>\n",
       "    <tr>\n",
       "      <th>0</th>\n",
       "      <td>0</td>\n",
       "      <td>#fingerprint #Pregnancy Test https://goo.gl/h1MfQV #android #apps #beautiful #cute #health #igers #iphoneonly #iphonesia #iphone</td>\n",
       "      <td>fingerprint pregnancy test android apps beautiful cute health igers iphoneonly iphonesia iphone</td>\n",
       "      <td>fingerprint pregnancy test android apps beautiful cute health igers iphoneonly iphonesia iphone</td>\n",
       "    </tr>\n",
       "    <tr>\n",
       "      <th>1</th>\n",
       "      <td>0</td>\n",
       "      <td>Finally a transparant silicon case ^^ Thanks to my uncle :) #yay #Sony #Xperia #S #sonyexperias… http://instagram.com/p/YGEt5JC6JM/</td>\n",
       "      <td>finally a transparant silicon case thanks to my uncle yay sony xperia s sonyexperias</td>\n",
       "      <td>finally transparant silicon case thanks uncle yay sony xperia sonyexperias</td>\n",
       "    </tr>\n",
       "    <tr>\n",
       "      <th>2</th>\n",
       "      <td>0</td>\n",
       "      <td>We love this! Would you go? #talk #makememories #unplug #relax #iphone #smartphone #wifi #connect... http://fb.me/6N3LsUpCu</td>\n",
       "      <td>we love this would you go talk makememories unplug relax iphone smartphone wifi connect</td>\n",
       "      <td>love talk makememories unplug relax iphone smartphone wifi connect</td>\n",
       "    </tr>\n",
       "    <tr>\n",
       "      <th>3</th>\n",
       "      <td>0</td>\n",
       "      <td>I'm wired I know I'm George I was made that way ;) #iphone #cute #daventry #home http://instagr.am/p/Li_5_ujS4k/</td>\n",
       "      <td>i am wired i know i am george i wa made that way iphone cute daventry home</td>\n",
       "      <td>wired know george way iphone cute daventry home</td>\n",
       "    </tr>\n",
       "    <tr>\n",
       "      <th>4</th>\n",
       "      <td>1</td>\n",
       "      <td>What amazing service! Apple won't even talk to me about a question I have unless I pay them $19.95 for their stupid support!</td>\n",
       "      <td>what amazing service apple will not even talk to me about a question i have unless i pay them for their stupid support</td>\n",
       "      <td>amazing service apple talk question unless pay stupid support</td>\n",
       "    </tr>\n",
       "  </tbody>\n",
       "</table>\n",
       "</div>"
      ],
      "text/plain": [
       "   label  \\\n",
       "0      0   \n",
       "1      0   \n",
       "2      0   \n",
       "3      0   \n",
       "4      1   \n",
       "\n",
       "                                                                                                                                 tweet  \\\n",
       "0     #fingerprint #Pregnancy Test https://goo.gl/h1MfQV #android #apps #beautiful #cute #health #igers #iphoneonly #iphonesia #iphone   \n",
       "1  Finally a transparant silicon case ^^ Thanks to my uncle :) #yay #Sony #Xperia #S #sonyexperias… http://instagram.com/p/YGEt5JC6JM/   \n",
       "2          We love this! Would you go? #talk #makememories #unplug #relax #iphone #smartphone #wifi #connect... http://fb.me/6N3LsUpCu   \n",
       "3                     I'm wired I know I'm George I was made that way ;) #iphone #cute #daventry #home http://instagr.am/p/Li_5_ujS4k/   \n",
       "4         What amazing service! Apple won't even talk to me about a question I have unless I pay them $19.95 for their stupid support!   \n",
       "\n",
       "                                                                                                     cleaned_tweets_w/o_SW  \\\n",
       "0                         fingerprint pregnancy test android apps beautiful cute health igers iphoneonly iphonesia iphone    \n",
       "1                                    finally a transparant silicon case thanks to my uncle yay sony xperia s sonyexperias    \n",
       "2                                 we love this would you go talk makememories unplug relax iphone smartphone wifi connect    \n",
       "3                                              i am wired i know i am george i wa made that way iphone cute daventry home    \n",
       "4  what amazing service apple will not even talk to me about a question i have unless i pay them for their stupid support    \n",
       "\n",
       "                                                                             cleaned_tweets_with_SW  \n",
       "0  fingerprint pregnancy test android apps beautiful cute health igers iphoneonly iphonesia iphone   \n",
       "1                       finally transparant silicon case thanks uncle yay sony xperia sonyexperias   \n",
       "2                               love talk makememories unplug relax iphone smartphone wifi connect   \n",
       "3                                                  wired know george way iphone cute daventry home   \n",
       "4                                    amazing service apple talk question unless pay stupid support   "
      ]
     },
     "execution_count": 340,
     "metadata": {},
     "output_type": "execute_result"
    }
   ],
   "source": [
    "data['cleaned_tweets_with_SW'] = cleaned_tweets\n",
    "data.head()"
   ]
  },
  {
   "cell_type": "code",
   "execution_count": 341,
   "metadata": {},
   "outputs": [
    {
     "name": "stdout",
     "output_type": "stream",
     "text": [
      "['fingerprint', 'pregnancy', 'test', 'android', 'apps', 'beautiful', 'cute', 'health', 'igers', 'iphoneonly', 'iphonesia', 'iphone', 'finally', 'transparant', 'silicon', 'case', 'thanks', 'uncle', 'yay', 'sony', 'xperia', 'sonyexperias', 'love', 'talk', 'makememories', 'unplug', 'relax', 'iphone', 'smartphone', 'wifi', 'connect', 'wired', 'know', 'george', 'way', 'iphone', 'cute', 'daventry', 'home', 'amazing', 'service', 'apple', 'talk', 'question', 'unless', 'pay', 'stupid', 'support', 'iphone', 'software']\n"
     ]
    },
    {
     "data": {
      "text/plain": [
       "16564"
      ]
     },
     "execution_count": 341,
     "metadata": {},
     "output_type": "execute_result"
    }
   ],
   "source": [
    "# Data Visualization for Cleaned Data\n",
    "all_words = []\n",
    "for t in data['cleaned_tweets_with_SW']:\n",
    "    all_words.extend(t.split())\n",
    "\n",
    "print(all_words[:50])\n",
    "len(set(all_words)) # number of unique words in the list"
   ]
  },
  {
   "cell_type": "code",
   "execution_count": 342,
   "metadata": {},
   "outputs": [
    {
     "data": {
      "image/png": "[encoded data removed]",
      "text/plain": [
       "<Figure size 1200x500 with 1 Axes>"
      ]
     },
     "metadata": {},
     "output_type": "display_data"
    }
   ],
   "source": [
    "# Frequency Distribution\n",
    "freq_dist = nltk.FreqDist(all_words)\n",
    "\n",
    "plt.figure(figsize=(12, 5))\n",
    "plt.title('Top 25 Most Common Words After Cleaning')\n",
    "plt.xticks(fontsize=15)\n",
    "\n",
    "freq_dist.plot(25, cumulative=False)\n",
    "\n",
    "plt.show()"
   ]
  },
  {
   "cell_type": "markdown",
   "metadata": {},
   "source": [
    "Again, this is heading in the right direction. However, there are still some very popular words that, for this use case, do not add any meaning to the data. These words should be removed from the data. Additionally, these removed stop words will reduce the dimensionality of the data and hence, the processing time and complexity."
   ]
  },
  {
   "cell_type": "code",
   "execution_count": 343,
   "metadata": {},
   "outputs": [],
   "source": [
    "domain_stopwords = ['phone', 'mobile', 'twitter', 'rt', 'com', 'follow', 'io', 'got', 'p']\n",
    "final_stopwords = domain_stopwords + list(combined_stopwords)"
   ]
  },
  {
   "cell_type": "code",
   "execution_count": 344,
   "metadata": {},
   "outputs": [],
   "source": [
    "# Re-implement the cleaner function with final_stopwords\n",
    "# Apply stopwords removal\n",
    "def tweet_cleaner_with_final_stopwords(text):\n",
    "    new_text = re.sub(r\"'s\\b\", \" is\", text)\n",
    "    new_text = re.sub(\"#\", \"\", new_text)\n",
    "    new_text = re.sub(r\"http\\S+\", \"\", new_text)\n",
    "    new_text = contractions.fix(new_text)\n",
    "    new_text = re.sub(r\"[^a-zA-Z]\", \" \", new_text)\n",
    "    new_text = new_text.lower().strip()\n",
    "\n",
    "    new_text = [token for token in new_text.split() if token not in final_stopwords]\n",
    "\n",
    "    new_text = [token for token in new_text if len(token) > 2]\n",
    "\n",
    "    cleaned_text = ''\n",
    "    for token in new_text:\n",
    "        cleaned_text += lemmatizer.lemmatize(token) + ' '\n",
    "\n",
    "    return cleaned_text"
   ]
  },
  {
   "cell_type": "code",
   "execution_count": 345,
   "metadata": {},
   "outputs": [
    {
     "name": "stdout",
     "output_type": "stream",
     "text": [
      "['fingerprint pregnancy test android apps beautiful cute health igers iphoneonly iphonesia iphone ', 'finally transparant silicon case thanks uncle yay sony xperia sonyexperias ', 'love talk makememories unplug relax iphone smartphone wifi connect ', 'wired know george way iphone cute daventry home ', 'amazing service apple talk question unless pay stupid support ', 'iphone software update fucked big time stupid iphones ', 'happy instapic instadaily sony xperia xperiaz ', 'new type charger cable bay amazon etsy new year rob cross toby young evemun mcmafia taylor spectre newyear starting recipe technology samsunggalaxys iphonex pic pjiwq wtc ', 'bout shopping listening music iphone justme music likeforlike followforfollow ', 'photo fun selfie pool water sony camera picoftheday sun instagood boy cute outdoor ']\n"
     ]
    }
   ],
   "source": [
    "cleaned_tweets = list(data['tweet'].apply(tweet_cleaner_with_final_stopwords))\n",
    "print(cleaned_tweets[:10])"
   ]
  },
  {
   "cell_type": "code",
   "execution_count": 346,
   "metadata": {},
   "outputs": [
    {
     "data": {
      "text/html": [
       "<div>\n",
       "<style scoped>\n",
       "    .dataframe tbody tr th:only-of-type {\n",
       "        vertical-align: middle;\n",
       "    }\n",
       "\n",
       "    .dataframe tbody tr th {\n",
       "        vertical-align: top;\n",
       "    }\n",
       "\n",
       "    .dataframe thead th {\n",
       "        text-align: right;\n",
       "    }\n",
       "</style>\n",
       "<table border=\"1\" class=\"dataframe\">\n",
       "  <thead>\n",
       "    <tr style=\"text-align: right;\">\n",
       "      <th></th>\n",
       "      <th>label</th>\n",
       "      <th>tweet</th>\n",
       "      <th>cleaned_tweets_w/o_SW</th>\n",
       "      <th>cleaned_tweets_with_final_SW</th>\n",
       "    </tr>\n",
       "  </thead>\n",
       "  <tbody>\n",
       "    <tr>\n",
       "      <th>0</th>\n",
       "      <td>0</td>\n",
       "      <td>#fingerprint #Pregnancy Test https://goo.gl/h1MfQV #android #apps #beautiful #cute #health #igers #iphoneonly #iphonesia #iphone</td>\n",
       "      <td>fingerprint pregnancy test android apps beautiful cute health igers iphoneonly iphonesia iphone</td>\n",
       "      <td>fingerprint pregnancy test android apps beautiful cute health igers iphoneonly iphonesia iphone</td>\n",
       "    </tr>\n",
       "    <tr>\n",
       "      <th>1</th>\n",
       "      <td>0</td>\n",
       "      <td>Finally a transparant silicon case ^^ Thanks to my uncle :) #yay #Sony #Xperia #S #sonyexperias… http://instagram.com/p/YGEt5JC6JM/</td>\n",
       "      <td>finally a transparant silicon case thanks to my uncle yay sony xperia s sonyexperias</td>\n",
       "      <td>finally transparant silicon case thanks uncle yay sony xperia sonyexperias</td>\n",
       "    </tr>\n",
       "    <tr>\n",
       "      <th>2</th>\n",
       "      <td>0</td>\n",
       "      <td>We love this! Would you go? #talk #makememories #unplug #relax #iphone #smartphone #wifi #connect... http://fb.me/6N3LsUpCu</td>\n",
       "      <td>we love this would you go talk makememories unplug relax iphone smartphone wifi connect</td>\n",
       "      <td>love talk makememories unplug relax iphone smartphone wifi connect</td>\n",
       "    </tr>\n",
       "    <tr>\n",
       "      <th>3</th>\n",
       "      <td>0</td>\n",
       "      <td>I'm wired I know I'm George I was made that way ;) #iphone #cute #daventry #home http://instagr.am/p/Li_5_ujS4k/</td>\n",
       "      <td>i am wired i know i am george i wa made that way iphone cute daventry home</td>\n",
       "      <td>wired know george way iphone cute daventry home</td>\n",
       "    </tr>\n",
       "    <tr>\n",
       "      <th>4</th>\n",
       "      <td>1</td>\n",
       "      <td>What amazing service! Apple won't even talk to me about a question I have unless I pay them $19.95 for their stupid support!</td>\n",
       "      <td>what amazing service apple will not even talk to me about a question i have unless i pay them for their stupid support</td>\n",
       "      <td>amazing service apple talk question unless pay stupid support</td>\n",
       "    </tr>\n",
       "  </tbody>\n",
       "</table>\n",
       "</div>"
      ],
      "text/plain": [
       "   label  \\\n",
       "0      0   \n",
       "1      0   \n",
       "2      0   \n",
       "3      0   \n",
       "4      1   \n",
       "\n",
       "                                                                                                                                 tweet  \\\n",
       "0     #fingerprint #Pregnancy Test https://goo.gl/h1MfQV #android #apps #beautiful #cute #health #igers #iphoneonly #iphonesia #iphone   \n",
       "1  Finally a transparant silicon case ^^ Thanks to my uncle :) #yay #Sony #Xperia #S #sonyexperias… http://instagram.com/p/YGEt5JC6JM/   \n",
       "2          We love this! Would you go? #talk #makememories #unplug #relax #iphone #smartphone #wifi #connect... http://fb.me/6N3LsUpCu   \n",
       "3                     I'm wired I know I'm George I was made that way ;) #iphone #cute #daventry #home http://instagr.am/p/Li_5_ujS4k/   \n",
       "4         What amazing service! Apple won't even talk to me about a question I have unless I pay them $19.95 for their stupid support!   \n",
       "\n",
       "                                                                                                     cleaned_tweets_w/o_SW  \\\n",
       "0                         fingerprint pregnancy test android apps beautiful cute health igers iphoneonly iphonesia iphone    \n",
       "1                                    finally a transparant silicon case thanks to my uncle yay sony xperia s sonyexperias    \n",
       "2                                 we love this would you go talk makememories unplug relax iphone smartphone wifi connect    \n",
       "3                                              i am wired i know i am george i wa made that way iphone cute daventry home    \n",
       "4  what amazing service apple will not even talk to me about a question i have unless i pay them for their stupid support    \n",
       "\n",
       "                                                                       cleaned_tweets_with_final_SW  \n",
       "0  fingerprint pregnancy test android apps beautiful cute health igers iphoneonly iphonesia iphone   \n",
       "1                       finally transparant silicon case thanks uncle yay sony xperia sonyexperias   \n",
       "2                               love talk makememories unplug relax iphone smartphone wifi connect   \n",
       "3                                                  wired know george way iphone cute daventry home   \n",
       "4                                    amazing service apple talk question unless pay stupid support   "
      ]
     },
     "execution_count": 346,
     "metadata": {},
     "output_type": "execute_result"
    }
   ],
   "source": [
    "data['cleaned_tweets_with_final_SW'] = cleaned_tweets\n",
    "data.drop('cleaned_tweets_with_SW', axis=1, inplace=True)\n",
    "data.head()"
   ]
  },
  {
   "cell_type": "code",
   "execution_count": 347,
   "metadata": {},
   "outputs": [
    {
     "name": "stdout",
     "output_type": "stream",
     "text": [
      "['fingerprint', 'pregnancy', 'test', 'android', 'apps', 'beautiful', 'cute', 'health', 'igers', 'iphoneonly', 'iphonesia', 'iphone', 'finally', 'transparant', 'silicon', 'case', 'thanks', 'uncle', 'yay', 'sony', 'xperia', 'sonyexperias', 'love', 'talk', 'makememories', 'unplug', 'relax', 'iphone', 'smartphone', 'wifi', 'connect', 'wired', 'know', 'george', 'way', 'iphone', 'cute', 'daventry', 'home', 'amazing', 'service', 'apple', 'talk', 'question', 'unless', 'pay', 'stupid', 'support', 'iphone', 'software']\n"
     ]
    },
    {
     "data": {
      "text/plain": [
       "16170"
      ]
     },
     "execution_count": 347,
     "metadata": {},
     "output_type": "execute_result"
    }
   ],
   "source": [
    "# Data Visualization for Cleaned Data\n",
    "all_words = []\n",
    "for t in data['cleaned_tweets_with_final_SW']:\n",
    "    all_words.extend(t.split())\n",
    "\n",
    "print(all_words[:50])\n",
    "len(set(all_words)) # number of unique words in the list"
   ]
  },
  {
   "cell_type": "code",
   "execution_count": 348,
   "metadata": {},
   "outputs": [
    {
     "data": {
      "image/png": "[encoded data removed]",
      "text/plain": [
       "<Figure size 1200x500 with 1 Axes>"
      ]
     },
     "metadata": {},
     "output_type": "display_data"
    }
   ],
   "source": [
    "# Frequency Distribution\n",
    "freq_dist = nltk.FreqDist(all_words)\n",
    "\n",
    "plt.figure(figsize=(12, 5))\n",
    "plt.title('Top 25 Most Common Words After Final Cleaning')\n",
    "plt.xticks(fontsize=15)\n",
    "\n",
    "freq_dist.plot(25, cumulative=False)\n",
    "\n",
    "plt.show()"
   ]
  },
  {
   "cell_type": "markdown",
   "metadata": {},
   "source": [
    "This looks good enough now for the analysis we would like to perform."
   ]
  },
  {
   "cell_type": "markdown",
   "metadata": {},
   "source": [
    "### Bag of Words Model (Feature Extraction)\n",
    "\n",
    "- Count Vectorizer\n",
    "- TF-IDF Vectorizer\n",
    "\n",
    "The Bag of Words Model is a simple model that counts the frequency of the words in a document without considering the order in which they appear. The Bag of Words Model is a way of extracting features from text for use in modeling, such as with machine learning algorithms."
   ]
  },
  {
   "cell_type": "code",
   "execution_count": 349,
   "metadata": {},
   "outputs": [
    {
     "data": {
      "text/plain": [
       "(7920, 4)"
      ]
     },
     "execution_count": 349,
     "metadata": {},
     "output_type": "execute_result"
    }
   ],
   "source": [
    "data.shape"
   ]
  },
  {
   "cell_type": "code",
   "execution_count": 350,
   "metadata": {},
   "outputs": [],
   "source": [
    "from sklearn.feature_extraction.text import CountVectorizer\n",
    "\n",
    "CV = CountVectorizer()\n",
    "CV_features = CV.fit_transform(data['cleaned_tweets_with_final_SW'])"
   ]
  },
  {
   "cell_type": "code",
   "execution_count": 351,
   "metadata": {},
   "outputs": [
    {
     "data": {
      "text/plain": [
       "(7920, 16167)"
      ]
     },
     "execution_count": 351,
     "metadata": {},
     "output_type": "execute_result"
    }
   ],
   "source": [
    "CV_features.shape"
   ]
  },
  {
   "cell_type": "code",
   "execution_count": 352,
   "metadata": {},
   "outputs": [
    {
     "data": {
      "text/plain": [
       "<1x16167 sparse matrix of type '<class 'numpy.int64'>'\n",
       "\twith 12 stored elements in Compressed Sparse Row format>"
      ]
     },
     "execution_count": 352,
     "metadata": {},
     "output_type": "execute_result"
    }
   ],
   "source": [
    "CV_features[0]"
   ]
  },
  {
   "cell_type": "markdown",
   "metadata": {},
   "source": [
    "\"sparse matrix\": a matrix in which most of the elements are zero. In the interest of efficient storage, a sparse matrix will be stored by only storing the locations of the non-zero elements."
   ]
  },
  {
   "cell_type": "code",
   "execution_count": 353,
   "metadata": {},
   "outputs": [],
   "source": [
    "df = data.copy()\n",
    "df.columns = ['label', 'cleaned_tweets_incl_SW', 'cleaned_tweets_SW_removed', 'cleaned_tweets_SW_removed_len_gt2']\n",
    "df.to_pickle('cleaned_tweets.pkl')\n",
    "df.to_csv('cleaned_tweets.csv', index=False)"
   ]
  },
  {
   "cell_type": "code",
   "execution_count": 354,
   "metadata": {},
   "outputs": [
    {
     "data": {
      "text/plain": [
       "scipy.sparse._csr.csr_matrix"
      ]
     },
     "execution_count": 354,
     "metadata": {},
     "output_type": "execute_result"
    }
   ],
   "source": [
    "type(CV_features[0]) # each row is a compressed sparse row"
   ]
  },
  {
   "cell_type": "code",
   "execution_count": 355,
   "metadata": {},
   "outputs": [
    {
     "data": {
      "text/plain": [
       "matrix([[0, 0, 0, ..., 0, 0, 0]])"
      ]
     },
     "execution_count": 355,
     "metadata": {},
     "output_type": "execute_result"
    }
   ],
   "source": [
    "CV_features[0].todense() # decompressing the CSR data"
   ]
  },
  {
   "cell_type": "code",
   "execution_count": 356,
   "metadata": {},
   "outputs": [
    {
     "data": {
      "text/html": [
       "<div>\n",
       "<style scoped>\n",
       "    .dataframe tbody tr th:only-of-type {\n",
       "        vertical-align: middle;\n",
       "    }\n",
       "\n",
       "    .dataframe tbody tr th {\n",
       "        vertical-align: top;\n",
       "    }\n",
       "\n",
       "    .dataframe thead th {\n",
       "        text-align: right;\n",
       "    }\n",
       "</style>\n",
       "<table border=\"1\" class=\"dataframe\">\n",
       "  <thead>\n",
       "    <tr style=\"text-align: right;\">\n",
       "      <th></th>\n",
       "      <th>0</th>\n",
       "      <th>1</th>\n",
       "      <th>2</th>\n",
       "      <th>3</th>\n",
       "      <th>4</th>\n",
       "      <th>5</th>\n",
       "      <th>6</th>\n",
       "      <th>7</th>\n",
       "      <th>8</th>\n",
       "      <th>9</th>\n",
       "      <th>...</th>\n",
       "      <th>16157</th>\n",
       "      <th>16158</th>\n",
       "      <th>16159</th>\n",
       "      <th>16160</th>\n",
       "      <th>16161</th>\n",
       "      <th>16162</th>\n",
       "      <th>16163</th>\n",
       "      <th>16164</th>\n",
       "      <th>16165</th>\n",
       "      <th>16166</th>\n",
       "    </tr>\n",
       "  </thead>\n",
       "  <tbody>\n",
       "    <tr>\n",
       "      <th>0</th>\n",
       "      <td>0</td>\n",
       "      <td>0</td>\n",
       "      <td>0</td>\n",
       "      <td>0</td>\n",
       "      <td>0</td>\n",
       "      <td>0</td>\n",
       "      <td>0</td>\n",
       "      <td>0</td>\n",
       "      <td>0</td>\n",
       "      <td>0</td>\n",
       "      <td>...</td>\n",
       "      <td>0</td>\n",
       "      <td>0</td>\n",
       "      <td>0</td>\n",
       "      <td>0</td>\n",
       "      <td>0</td>\n",
       "      <td>0</td>\n",
       "      <td>0</td>\n",
       "      <td>0</td>\n",
       "      <td>0</td>\n",
       "      <td>0</td>\n",
       "    </tr>\n",
       "    <tr>\n",
       "      <th>1</th>\n",
       "      <td>0</td>\n",
       "      <td>0</td>\n",
       "      <td>0</td>\n",
       "      <td>0</td>\n",
       "      <td>0</td>\n",
       "      <td>0</td>\n",
       "      <td>0</td>\n",
       "      <td>0</td>\n",
       "      <td>0</td>\n",
       "      <td>0</td>\n",
       "      <td>...</td>\n",
       "      <td>0</td>\n",
       "      <td>0</td>\n",
       "      <td>0</td>\n",
       "      <td>0</td>\n",
       "      <td>0</td>\n",
       "      <td>0</td>\n",
       "      <td>0</td>\n",
       "      <td>0</td>\n",
       "      <td>0</td>\n",
       "      <td>0</td>\n",
       "    </tr>\n",
       "    <tr>\n",
       "      <th>2</th>\n",
       "      <td>0</td>\n",
       "      <td>0</td>\n",
       "      <td>0</td>\n",
       "      <td>0</td>\n",
       "      <td>0</td>\n",
       "      <td>0</td>\n",
       "      <td>0</td>\n",
       "      <td>0</td>\n",
       "      <td>0</td>\n",
       "      <td>0</td>\n",
       "      <td>...</td>\n",
       "      <td>0</td>\n",
       "      <td>0</td>\n",
       "      <td>0</td>\n",
       "      <td>0</td>\n",
       "      <td>0</td>\n",
       "      <td>0</td>\n",
       "      <td>0</td>\n",
       "      <td>0</td>\n",
       "      <td>0</td>\n",
       "      <td>0</td>\n",
       "    </tr>\n",
       "    <tr>\n",
       "      <th>3</th>\n",
       "      <td>0</td>\n",
       "      <td>0</td>\n",
       "      <td>0</td>\n",
       "      <td>0</td>\n",
       "      <td>0</td>\n",
       "      <td>0</td>\n",
       "      <td>0</td>\n",
       "      <td>0</td>\n",
       "      <td>0</td>\n",
       "      <td>0</td>\n",
       "      <td>...</td>\n",
       "      <td>0</td>\n",
       "      <td>0</td>\n",
       "      <td>0</td>\n",
       "      <td>0</td>\n",
       "      <td>0</td>\n",
       "      <td>0</td>\n",
       "      <td>0</td>\n",
       "      <td>0</td>\n",
       "      <td>0</td>\n",
       "      <td>0</td>\n",
       "    </tr>\n",
       "    <tr>\n",
       "      <th>4</th>\n",
       "      <td>0</td>\n",
       "      <td>0</td>\n",
       "      <td>0</td>\n",
       "      <td>0</td>\n",
       "      <td>0</td>\n",
       "      <td>0</td>\n",
       "      <td>0</td>\n",
       "      <td>0</td>\n",
       "      <td>0</td>\n",
       "      <td>0</td>\n",
       "      <td>...</td>\n",
       "      <td>0</td>\n",
       "      <td>0</td>\n",
       "      <td>0</td>\n",
       "      <td>0</td>\n",
       "      <td>0</td>\n",
       "      <td>0</td>\n",
       "      <td>0</td>\n",
       "      <td>0</td>\n",
       "      <td>0</td>\n",
       "      <td>0</td>\n",
       "    </tr>\n",
       "    <tr>\n",
       "      <th>...</th>\n",
       "      <td>...</td>\n",
       "      <td>...</td>\n",
       "      <td>...</td>\n",
       "      <td>...</td>\n",
       "      <td>...</td>\n",
       "      <td>...</td>\n",
       "      <td>...</td>\n",
       "      <td>...</td>\n",
       "      <td>...</td>\n",
       "      <td>...</td>\n",
       "      <td>...</td>\n",
       "      <td>...</td>\n",
       "      <td>...</td>\n",
       "      <td>...</td>\n",
       "      <td>...</td>\n",
       "      <td>...</td>\n",
       "      <td>...</td>\n",
       "      <td>...</td>\n",
       "      <td>...</td>\n",
       "      <td>...</td>\n",
       "      <td>...</td>\n",
       "    </tr>\n",
       "    <tr>\n",
       "      <th>7915</th>\n",
       "      <td>0</td>\n",
       "      <td>0</td>\n",
       "      <td>0</td>\n",
       "      <td>0</td>\n",
       "      <td>0</td>\n",
       "      <td>0</td>\n",
       "      <td>0</td>\n",
       "      <td>0</td>\n",
       "      <td>0</td>\n",
       "      <td>0</td>\n",
       "      <td>...</td>\n",
       "      <td>0</td>\n",
       "      <td>0</td>\n",
       "      <td>0</td>\n",
       "      <td>0</td>\n",
       "      <td>0</td>\n",
       "      <td>0</td>\n",
       "      <td>0</td>\n",
       "      <td>0</td>\n",
       "      <td>0</td>\n",
       "      <td>0</td>\n",
       "    </tr>\n",
       "    <tr>\n",
       "      <th>7916</th>\n",
       "      <td>0</td>\n",
       "      <td>0</td>\n",
       "      <td>0</td>\n",
       "      <td>0</td>\n",
       "      <td>0</td>\n",
       "      <td>0</td>\n",
       "      <td>0</td>\n",
       "      <td>0</td>\n",
       "      <td>0</td>\n",
       "      <td>0</td>\n",
       "      <td>...</td>\n",
       "      <td>0</td>\n",
       "      <td>0</td>\n",
       "      <td>0</td>\n",
       "      <td>0</td>\n",
       "      <td>0</td>\n",
       "      <td>0</td>\n",
       "      <td>0</td>\n",
       "      <td>0</td>\n",
       "      <td>0</td>\n",
       "      <td>0</td>\n",
       "    </tr>\n",
       "    <tr>\n",
       "      <th>7917</th>\n",
       "      <td>0</td>\n",
       "      <td>0</td>\n",
       "      <td>0</td>\n",
       "      <td>0</td>\n",
       "      <td>0</td>\n",
       "      <td>0</td>\n",
       "      <td>0</td>\n",
       "      <td>0</td>\n",
       "      <td>0</td>\n",
       "      <td>0</td>\n",
       "      <td>...</td>\n",
       "      <td>0</td>\n",
       "      <td>0</td>\n",
       "      <td>0</td>\n",
       "      <td>0</td>\n",
       "      <td>0</td>\n",
       "      <td>0</td>\n",
       "      <td>0</td>\n",
       "      <td>0</td>\n",
       "      <td>0</td>\n",
       "      <td>0</td>\n",
       "    </tr>\n",
       "    <tr>\n",
       "      <th>7918</th>\n",
       "      <td>0</td>\n",
       "      <td>0</td>\n",
       "      <td>0</td>\n",
       "      <td>0</td>\n",
       "      <td>0</td>\n",
       "      <td>0</td>\n",
       "      <td>0</td>\n",
       "      <td>0</td>\n",
       "      <td>0</td>\n",
       "      <td>0</td>\n",
       "      <td>...</td>\n",
       "      <td>0</td>\n",
       "      <td>0</td>\n",
       "      <td>0</td>\n",
       "      <td>0</td>\n",
       "      <td>0</td>\n",
       "      <td>0</td>\n",
       "      <td>0</td>\n",
       "      <td>0</td>\n",
       "      <td>0</td>\n",
       "      <td>0</td>\n",
       "    </tr>\n",
       "    <tr>\n",
       "      <th>7919</th>\n",
       "      <td>0</td>\n",
       "      <td>0</td>\n",
       "      <td>0</td>\n",
       "      <td>0</td>\n",
       "      <td>0</td>\n",
       "      <td>0</td>\n",
       "      <td>0</td>\n",
       "      <td>0</td>\n",
       "      <td>0</td>\n",
       "      <td>0</td>\n",
       "      <td>...</td>\n",
       "      <td>0</td>\n",
       "      <td>0</td>\n",
       "      <td>0</td>\n",
       "      <td>0</td>\n",
       "      <td>0</td>\n",
       "      <td>0</td>\n",
       "      <td>0</td>\n",
       "      <td>0</td>\n",
       "      <td>0</td>\n",
       "      <td>0</td>\n",
       "    </tr>\n",
       "  </tbody>\n",
       "</table>\n",
       "<p>7920 rows × 16167 columns</p>\n",
       "</div>"
      ],
      "text/plain": [
       "      0      1      2      3      4      5      6      7      8      9      \\\n",
       "0         0      0      0      0      0      0      0      0      0      0   \n",
       "1         0      0      0      0      0      0      0      0      0      0   \n",
       "2         0      0      0      0      0      0      0      0      0      0   \n",
       "3         0      0      0      0      0      0      0      0      0      0   \n",
       "4         0      0      0      0      0      0      0      0      0      0   \n",
       "...     ...    ...    ...    ...    ...    ...    ...    ...    ...    ...   \n",
       "7915      0      0      0      0      0      0      0      0      0      0   \n",
       "7916      0      0      0      0      0      0      0      0      0      0   \n",
       "7917      0      0      0      0      0      0      0      0      0      0   \n",
       "7918      0      0      0      0      0      0      0      0      0      0   \n",
       "7919      0      0      0      0      0      0      0      0      0      0   \n",
       "\n",
       "      ...  16157  16158  16159  16160  16161  16162  16163  16164  16165  \\\n",
       "0     ...      0      0      0      0      0      0      0      0      0   \n",
       "1     ...      0      0      0      0      0      0      0      0      0   \n",
       "2     ...      0      0      0      0      0      0      0      0      0   \n",
       "3     ...      0      0      0      0      0      0      0      0      0   \n",
       "4     ...      0      0      0      0      0      0      0      0      0   \n",
       "...   ...    ...    ...    ...    ...    ...    ...    ...    ...    ...   \n",
       "7915  ...      0      0      0      0      0      0      0      0      0   \n",
       "7916  ...      0      0      0      0      0      0      0      0      0   \n",
       "7917  ...      0      0      0      0      0      0      0      0      0   \n",
       "7918  ...      0      0      0      0      0      0      0      0      0   \n",
       "7919  ...      0      0      0      0      0      0      0      0      0   \n",
       "\n",
       "      16166  \n",
       "0         0  \n",
       "1         0  \n",
       "2         0  \n",
       "3         0  \n",
       "4         0  \n",
       "...     ...  \n",
       "7915      0  \n",
       "7916      0  \n",
       "7917      0  \n",
       "7918      0  \n",
       "7919      0  \n",
       "\n",
       "[7920 rows x 16167 columns]"
      ]
     },
     "execution_count": 356,
     "metadata": {},
     "output_type": "execute_result"
    }
   ],
   "source": [
    "df = pd.DataFrame(CV_features.todense())\n",
    "df"
   ]
  },
  {
   "cell_type": "code",
   "execution_count": 357,
   "metadata": {},
   "outputs": [
    {
     "data": {
      "text/plain": [
       "128.04264"
      ]
     },
     "execution_count": 357,
     "metadata": {},
     "output_type": "execute_result"
    }
   ],
   "source": [
    "df.size/1e6 # this many elements are present in the dataframe"
   ]
  },
  {
   "cell_type": "code",
   "execution_count": 358,
   "metadata": {},
   "outputs": [
    {
     "data": {
      "text/plain": [
       "77735"
      ]
     },
     "execution_count": 358,
     "metadata": {},
     "output_type": "execute_result"
    }
   ],
   "source": [
    "import numpy as np\n",
    "np.count_nonzero(df)"
   ]
  },
  {
   "cell_type": "code",
   "execution_count": 359,
   "metadata": {},
   "outputs": [
    {
     "data": {
      "text/plain": [
       "0.060710244649751055"
      ]
     },
     "execution_count": 359,
     "metadata": {},
     "output_type": "execute_result"
    }
   ],
   "source": [
    "100*np.count_nonzero(df)/(df.size) # percent of the non-zero elements in the dataframe"
   ]
  },
  {
   "cell_type": "code",
   "execution_count": 360,
   "metadata": {},
   "outputs": [
    {
     "data": {
      "text/plain": [
       "array(['aaaahhhhhhh', 'aag', 'aah', 'aalborg', 'aand', 'aapl', 'aarhus',\n",
       "       'aaron', 'aaronbrandt', 'aarp', 'aarrrggghhhh', 'aashamsakal',\n",
       "       'aaydojbfkq', 'aayp', 'ab', 'abah', 'abajournal', 'abareta',\n",
       "       'abay', 'abb', 'abc', 'abdou', 'abdullahoashraf', 'abe',\n",
       "       'abeecwaldon', 'aber', 'abercrombie', 'abfad', 'abfadofficial',\n",
       "       'abi', 'ability', 'abit', 'able', 'ableton', 'abnqum', 'aboard',\n",
       "       'aboutalook', 'aboutdamntime', 'abouttime', 'abouttonight', 'abp',\n",
       "       'abscbn', 'absence', 'absolute', 'absolutely', 'absurd', 'abu',\n",
       "       'abudhabi', 'abuja', 'abujacity'], dtype=object)"
      ]
     },
     "execution_count": 360,
     "metadata": {},
     "output_type": "execute_result"
    }
   ],
   "source": [
    "CV.get_feature_names_out()[:50]"
   ]
  },
  {
   "cell_type": "code",
   "execution_count": 361,
   "metadata": {},
   "outputs": [
    {
     "data": {
      "text/plain": [
       "16167"
      ]
     },
     "execution_count": 361,
     "metadata": {},
     "output_type": "execute_result"
    }
   ],
   "source": [
    "len(CV.get_feature_names_out())"
   ]
  },
  {
   "cell_type": "code",
   "execution_count": 362,
   "metadata": {},
   "outputs": [
    {
     "data": {
      "text/plain": [
       "matrix([[0, 0, 0, ..., 0, 0, 0]])"
      ]
     },
     "execution_count": 362,
     "metadata": {},
     "output_type": "execute_result"
    }
   ],
   "source": [
    "CV_features[10].todense()"
   ]
  },
  {
   "cell_type": "code",
   "execution_count": 365,
   "metadata": {},
   "outputs": [
    {
     "data": {
      "text/plain": [
       "[array(['apple', 'color', 'crash', 'fuckin', 'hey', 'inch', 'ipod', 'make',\n",
       "        'minite', 'new', 'thinner'], dtype='<U41')]"
      ]
     },
     "execution_count": 365,
     "metadata": {},
     "output_type": "execute_result"
    }
   ],
   "source": [
    "# Reverses the 1s and 0s to the actual words\n",
    "CV.inverse_transform(np.asarray(CV_features[10].todense())) # actual words in the 11th tweet"
   ]
  },
  {
   "cell_type": "markdown",
   "metadata": {},
   "source": [
    "### Model Building"
   ]
  },
  {
   "cell_type": "code",
   "execution_count": 366,
   "metadata": {},
   "outputs": [],
   "source": [
    "from sklearn.model_selection import train_test_split\n",
    "\n",
    "X_train, X_test, y_train, y_test = train_test_split(CV_features, data['label'], test_size=0.25, stratify=data['label'], random_state=42)"
   ]
  },
  {
   "cell_type": "markdown",
   "metadata": {},
   "source": [
    "The stratify parameter used in the train_test_split function ensures that the training and test sets have approximately the same percentage of samples of each target class as the complete set. This is important because the data is imbalanced. If the data is not stratified, the model will be trained on a dataset that does not accurately represent the data. This will result in a model that is not accurate."
   ]
  },
  {
   "cell_type": "code",
   "execution_count": 373,
   "metadata": {},
   "outputs": [
    {
     "name": "stdout",
     "output_type": "stream",
     "text": [
      "0.9750841750841751\n",
      "0.8818181818181818\n"
     ]
    }
   ],
   "source": [
    "from sklearn.linear_model import LogisticRegression\n",
    "\n",
    "LR = LogisticRegression(solver='liblinear')\n",
    "LR.fit(X_train, y_train)\n",
    "\n",
    "print(LR.score(X_train, y_train)) # train score\n",
    "print(LR.score(X_test, y_test)) # test score"
   ]
  },
  {
   "cell_type": "markdown",
   "metadata": {},
   "source": [
    "These values show that the model is overfitted. The gap between training and test accuracies is far above the standard 1-2% allowed gap. This means that the model is not generalizing well to new data. This is because the model is too complex for the data. The model is overfitting to the training data. This is a common problem with text data.\n",
    "\n",
    "I believe that the root cause of this overfitting is the extremely high dimensionality of the data. The data has 10,000 features. This is far too many features for the amount of data that we have. This is known as the curse of dimensionality. The model is too complex for the data. This is causing the model to overfit to the training data."
   ]
  },
  {
   "cell_type": "code",
   "execution_count": 374,
   "metadata": {},
   "outputs": [
    {
     "name": "stdout",
     "output_type": "stream",
     "text": [
      "0.8853535353535353\n",
      "0.8626262626262626\n"
     ]
    }
   ],
   "source": [
    "# We can regularize the model to improve scores\n",
    "from sklearn.linear_model import LogisticRegression\n",
    "\n",
    "# L1-Regularization\n",
    "LR1 = LogisticRegression(class_weight='balanced', solver='liblinear', penalty='l1', C=0.4)\n",
    "LR1.fit(X_train, y_train)\n",
    "\n",
    "print(LR1.score(X_train, y_train)) # train score\n",
    "print(LR1.score(X_test, y_test)) # test score"
   ]
  },
  {
   "cell_type": "markdown",
   "metadata": {},
   "source": [
    "This is definitely better than the previous model. The gap between training and test accuracies is now within the standard 1-2% allowed gap. This means that the model is generalizing well to new data."
   ]
  },
  {
   "cell_type": "code",
   "execution_count": 369,
   "metadata": {},
   "outputs": [],
   "source": [
    "# Cross-Validate the Logistic Regression model\n",
    "from sklearn.model_selection import cross_val_score, cross_validate\n",
    "from sklearn.model_selection import StratifiedKFold"
   ]
  },
  {
   "cell_type": "code",
   "execution_count": 375,
   "metadata": {},
   "outputs": [],
   "source": [
    "X = CV_features\n",
    "y = data['label']"
   ]
  },
  {
   "cell_type": "code",
   "execution_count": 376,
   "metadata": {},
   "outputs": [
    {
     "name": "stdout",
     "output_type": "stream",
     "text": [
      "[0.87941919 0.85606061 0.85290404 0.86426768 0.86868687]\n",
      "86.43 0.94\n"
     ]
    }
   ],
   "source": [
    "# Cross-Validate the LR2 Model\n",
    "LR2 = LogisticRegression(class_weight='balanced', solver='liblinear', penalty='l2', C=0.06)\n",
    "kfold = StratifiedKFold(n_splits=5, shuffle=True, random_state=42)\n",
    "results = cross_val_score(LR2, X, y, cv=kfold, scoring='accuracy')\n",
    "\n",
    "print(results)\n",
    "print(np.round((results.mean()) * 100, 2), np.round((results.std()) * 100, 2))"
   ]
  },
  {
   "cell_type": "code",
   "execution_count": 377,
   "metadata": {},
   "outputs": [],
   "source": [
    "kfold = StratifiedKFold(n_splits=5, shuffle=True, random_state=42)\n",
    "results = cross_validate(LR2, X, y, cv=kfold, scoring='accuracy', return_train_score=True)"
   ]
  },
  {
   "cell_type": "code",
   "execution_count": 378,
   "metadata": {},
   "outputs": [
    {
     "data": {
      "text/plain": [
       "{'fit_time': array([0.22178411, 0.03517079, 0.04706192, 0.02764082, 0.04631305]),\n",
       " 'score_time': array([0.00121403, 0.00117612, 0.00116515, 0.00111318, 0.001194  ]),\n",
       " 'test_score': array([0.87941919, 0.85606061, 0.85290404, 0.86426768, 0.86868687]),\n",
       " 'train_score': array([0.88857323, 0.88794192, 0.88999369, 0.88983586, 0.8884154 ])}"
      ]
     },
     "execution_count": 378,
     "metadata": {},
     "output_type": "execute_result"
    }
   ],
   "source": [
    "results"
   ]
  },
  {
   "cell_type": "code",
   "execution_count": 379,
   "metadata": {},
   "outputs": [
    {
     "name": "stdout",
     "output_type": "stream",
     "text": [
      "[0.88857323 0.88794192 0.88999369 0.88983586 0.8884154 ]\n",
      "88.9 0.08\n"
     ]
    }
   ],
   "source": [
    "print(results['train_score'])\n",
    "print(np.round((results['train_score'].mean()) * 100, 2), np.round((results['train_score'].std()) * 100, 2))"
   ]
  },
  {
   "cell_type": "code",
   "execution_count": 380,
   "metadata": {},
   "outputs": [
    {
     "name": "stdout",
     "output_type": "stream",
     "text": [
      "[0.87941919 0.85606061 0.85290404 0.86426768 0.86868687]\n",
      "86.43 0.94\n"
     ]
    }
   ],
   "source": [
    "print(results['test_score'])\n",
    "print(np.round((results['test_score'].mean()) * 100, 2), np.round((results['test_score'].std()) * 100, 2))"
   ]
  },
  {
   "cell_type": "code",
   "execution_count": 381,
   "metadata": {},
   "outputs": [
    {
     "name": "stdout",
     "output_type": "stream",
     "text": [
      "Fitting 5 folds for each of 20 candidates, totalling 100 fits\n",
      "[CV] END ............................................C=1e-05; total time=   0.0s\n",
      "[CV] END ............................................C=1e-05; total time=   0.0s\n",
      "[CV] END ............................................C=1e-05; total time=   0.0s\n",
      "[CV] END ............................................C=1e-05; total time=   0.0s\n",
      "[CV] END ............................................C=1e-05; total time=   0.0s\n",
      "[CV] END .............................C=0.050010000000000006; total time=   0.0s\n",
      "[CV] END .............................C=0.050010000000000006; total time=   0.0s\n",
      "[CV] END .............................C=0.050010000000000006; total time=   0.0s\n",
      "[CV] END .............................C=0.050010000000000006; total time=   0.0s\n",
      "[CV] END .............................C=0.050010000000000006; total time=   0.0s\n",
      "[CV] END ..........................................C=0.10001; total time=   0.0s\n",
      "[CV] END ..........................................C=0.10001; total time=   0.0s\n",
      "[CV] END ..........................................C=0.10001; total time=   0.0s\n",
      "[CV] END ..........................................C=0.10001; total time=   0.0s\n",
      "[CV] END ..........................................C=0.10001; total time=   0.0s\n",
      "[CV] END ..............................C=0.15001000000000003; total time=   0.0s\n",
      "[CV] END ..............................C=0.15001000000000003; total time=   0.0s\n",
      "[CV] END ..............................C=0.15001000000000003; total time=   0.0s\n",
      "[CV] END ..............................C=0.20001000000000002; total time=   0.0s\n",
      "[CV] END ..............................C=0.20001000000000002; total time=   0.0s\n",
      "[CV] END ..............................C=0.15001000000000003; total time=   0.0s\n",
      "[CV] END ..............................C=0.15001000000000003; total time=   0.1s\n",
      "[CV] END ..............................C=0.20001000000000002; total time=   0.0s\n",
      "[CV] END ..............................C=0.20001000000000002; total time=   0.0s\n",
      "[CV] END ..........................................C=0.25001; total time=   0.0s\n",
      "[CV] END ..........................................C=0.25001; total time=   0.0s\n",
      "[CV] END ..............................C=0.20001000000000002; total time=   0.1s\n",
      "[CV] END ..............................C=0.30001000000000005; total time=   0.0s\n",
      "[CV] END ..........................................C=0.25001; total time=   0.1s\n",
      "[CV] END ..........................................C=0.25001; total time=   0.1s\n",
      "[CV] END ..............................C=0.30001000000000005; total time=   0.0s\n",
      "[CV] END ..........................................C=0.25001; total time=   0.1s\n",
      "[CV] END ..............................C=0.30001000000000005; total time=   0.1s\n",
      "[CV] END ..............................C=0.30001000000000005; total time=   0.1s\n",
      "[CV] END ..............................C=0.35001000000000004; total time=   0.0s\n",
      "[CV] END ..............................C=0.35001000000000004; total time=   0.0s\n",
      "[CV] END ..............................C=0.35001000000000004; total time=   0.0s\n",
      "[CV] END ..............................C=0.35001000000000004; total time=   0.0s\n",
      "[CV] END ..............................C=0.30001000000000005; total time=   0.1s\n",
      "[CV] END ..............................C=0.40001000000000003; total time=   0.0s\n",
      "[CV] END ..............................C=0.35001000000000004; total time=   0.0s\n",
      "[CV] END ..............................C=0.40001000000000003; total time=   0.0s\n",
      "[CV] END ..............................C=0.40001000000000003; total time=   0.0s\n",
      "[CV] END ..........................................C=0.45001; total time=   0.0s\n",
      "[CV] END ..............................C=0.40001000000000003; total time=   0.1s\n",
      "[CV] END ..........................................C=0.45001; total time=   0.0s\n",
      "[CV] END ..............................C=0.40001000000000003; total time=   0.0s\n",
      "[CV] END ..........................................C=0.50001; total time=   0.0s\n",
      "[CV] END ..........................................C=0.45001; total time=   0.0s\n",
      "[CV] END ..........................................C=0.45001; total time=   0.1s\n",
      "[CV] END ..........................................C=0.50001; total time=   0.0s\n",
      "[CV] END ..........................................C=0.50001; total time=   0.0s\n",
      "[CV] END ..........................................C=0.55001; total time=   0.1s\n",
      "[CV] END ..........................................C=0.45001; total time=   0.0s\n",
      "[CV] END ..........................................C=0.50001; total time=   0.0s\n",
      "[CV] END ..........................................C=0.55001; total time=   0.1s\n",
      "[CV] END ..........................................C=0.60001; total time=   0.0s\n",
      "[CV] END ..........................................C=0.60001; total time=   0.0s\n",
      "[CV] END ..........................................C=0.50001; total time=   0.0s\n",
      "[CV] END ..........................................C=0.55001; total time=   0.1s\n",
      "[CV] END ..........................................C=0.60001; total time=   0.0s\n",
      "[CV] END ..........................................C=0.55001; total time=   0.0s\n",
      "[CV] END ..........................................C=0.60001; total time=   0.0s\n",
      "[CV] END ..........................................C=0.60001; total time=   0.0s\n",
      "[CV] END ..........................................C=0.55001; total time=   0.0s\n",
      "[CV] END ..........................................C=0.65001; total time=   0.1s\n",
      "[CV] END ..........................................C=0.65001; total time=   0.1s\n",
      "[CV] END ..........................................C=0.70001; total time=   0.0s\n",
      "[CV] END ..........................................C=0.70001; total time=   0.0s\n",
      "[CV] END ..........................................C=0.75001; total time=   0.0s\n",
      "[CV] END ..........................................C=0.75001; total time=   0.0s\n",
      "[CV] END ..........................................C=0.70001; total time=   0.0s\n",
      "[CV] END ..........................................C=0.65001; total time=   0.0s\n",
      "[CV] END ..........................................C=0.65001; total time=   0.0s\n",
      "[CV] END ..........................................C=0.65001; total time=   0.0s\n",
      "[CV] END ..........................................C=0.70001; total time=   0.0s\n",
      "[CV] END ..........................................C=0.70001; total time=   0.0s\n",
      "[CV] END ..........................................C=0.75001; total time=   0.0s\n",
      "[CV] END ..........................................C=0.75001; total time=   0.0s\n",
      "[CV] END ..........................................C=0.75001; total time=   0.0s\n",
      "[CV] END ..........................................C=0.80001; total time=   0.0s\n",
      "[CV] END ..........................................C=0.80001; total time=   0.0s\n",
      "[CV] END ..........................................C=0.80001; total time=   0.1s\n",
      "[CV] END ..........................................C=0.80001; total time=   0.0s\n",
      "[CV] END ..........................................C=0.80001; total time=   0.0s\n",
      "[CV] END ..........................................C=0.85001; total time=   0.0s\n",
      "[CV] END ..........................................C=0.85001; total time=   0.0s\n",
      "[CV] END ..........................................C=0.85001; total time=   0.0s\n",
      "[CV] END ..........................................C=0.85001; total time=   0.1s\n",
      "[CV] END ..........................................C=0.85001; total time=   0.0s\n",
      "[CV] END ..........................................C=0.90001; total time=   0.0s\n",
      "[CV] END ..........................................C=0.90001; total time=   0.0s\n",
      "[CV] END ..........................................C=0.95001; total time=   0.0s\n",
      "[CV] END ..........................................C=0.90001; total time=   0.0s\n",
      "[CV] END ..........................................C=0.90001; total time=   0.1s\n",
      "[CV] END ..........................................C=0.90001; total time=   0.1s\n",
      "[CV] END ..........................................C=0.95001; total time=   0.0s\n",
      "[CV] END ..........................................C=0.95001; total time=   0.0s\n",
      "[CV] END ..........................................C=0.95001; total time=   0.0s\n",
      "[CV] END ..........................................C=0.95001; total time=   0.0s\n"
     ]
    }
   ],
   "source": [
    "# Hyperparameter Tuning of the LR2 Model\n",
    "from sklearn.model_selection import GridSearchCV\n",
    "\n",
    "LR2 = LogisticRegression(class_weight='balanced', solver='liblinear', penalty='l2')\n",
    "\n",
    "C_values = np.arange(0.00001, 1, 0.05) # 20 values\n",
    "\n",
    "grid = GridSearchCV(estimator=LR2, param_grid={'C': C_values}, cv=kfold, scoring='accuracy', return_train_score=True, verbose=2, n_jobs=-1)\n",
    "grid_results = grid.fit(X, y)"
   ]
  },
  {
   "cell_type": "code",
   "execution_count": 383,
   "metadata": {},
   "outputs": [
    {
     "data": {
      "text/plain": [
       "({'C': 0.40001000000000003}, 0.8837121212121213, 8)"
      ]
     },
     "execution_count": 383,
     "metadata": {},
     "output_type": "execute_result"
    }
   ],
   "source": [
    "grid_results.best_params_, grid_results.best_score_, grid_results.best_index_"
   ]
  },
  {
   "cell_type": "code",
   "execution_count": 384,
   "metadata": {},
   "outputs": [
    {
     "data": {
      "text/plain": [
       "dict_keys(['mean_fit_time', 'std_fit_time', 'mean_score_time', 'std_score_time', 'param_C', 'params', 'split0_test_score', 'split1_test_score', 'split2_test_score', 'split3_test_score', 'split4_test_score', 'mean_test_score', 'std_test_score', 'rank_test_score', 'split0_train_score', 'split1_train_score', 'split2_train_score', 'split3_train_score', 'split4_train_score', 'mean_train_score', 'std_train_score'])"
      ]
     },
     "execution_count": 384,
     "metadata": {},
     "output_type": "execute_result"
    }
   ],
   "source": [
    "grid_results.cv_results_.keys()"
   ]
  },
  {
   "cell_type": "code",
   "execution_count": 385,
   "metadata": {},
   "outputs": [
    {
     "data": {
      "text/plain": [
       "88.37121212121212"
      ]
     },
     "execution_count": 385,
     "metadata": {},
     "output_type": "execute_result"
    }
   ],
   "source": [
    "grid_results.cv_results_['mean_test_score'][grid_results.best_index_] * 100"
   ]
  },
  {
   "cell_type": "code",
   "execution_count": 386,
   "metadata": {},
   "outputs": [
    {
     "data": {
      "text/plain": [
       "94.17297979797979"
      ]
     },
     "execution_count": 386,
     "metadata": {},
     "output_type": "execute_result"
    }
   ],
   "source": [
    "grid_results.cv_results_['mean_train_score'][grid_results.best_index_] * 100"
   ]
  },
  {
   "cell_type": "markdown",
   "metadata": {},
   "source": [
    "The above represents the \"best-fitted\" model from GridSearchCV and could still be overfitted."
   ]
  },
  {
   "cell_type": "code",
   "execution_count": 387,
   "metadata": {},
   "outputs": [
    {
     "data": {
      "text/plain": [
       "1.0453142442332912"
      ]
     },
     "execution_count": 387,
     "metadata": {},
     "output_type": "execute_result"
    }
   ],
   "source": [
    "grid_results.cv_results_['std_test_score'][grid_results.best_index_] * 100"
   ]
  },
  {
   "cell_type": "code",
   "execution_count": 388,
   "metadata": {},
   "outputs": [
    {
     "data": {
      "text/plain": [
       "array([0.77146465, 0.86098485, 0.87260101, 0.87664141, 0.87967172,\n",
       "       0.88106061, 0.88207071, 0.88320707, 0.88371212, 0.88308081,\n",
       "       0.88333333, 0.88295455, 0.88320707, 0.88295455, 0.88270202,\n",
       "       0.88232323, 0.88232323, 0.88232323, 0.88257576, 0.88207071])"
      ]
     },
     "execution_count": 388,
     "metadata": {},
     "output_type": "execute_result"
    }
   ],
   "source": [
    "grid_results.cv_results_['mean_test_score']"
   ]
  },
  {
   "cell_type": "code",
   "execution_count": 389,
   "metadata": {},
   "outputs": [
    {
     "data": {
      "text/plain": [
       "[<matplotlib.lines.Line2D at 0x17585bd10>]"
      ]
     },
     "execution_count": 389,
     "metadata": {},
     "output_type": "execute_result"
    },
    {
     "data": {
      "image/png": "[encoded data removed]",
      "text/plain": [
       "<Figure size 640x480 with 1 Axes>"
      ]
     },
     "metadata": {},
     "output_type": "display_data"
    }
   ],
   "source": [
    "plt.plot(grid_results.cv_results_['mean_train_score'] - grid_results.cv_results_['mean_test_score'])"
   ]
  },
  {
   "cell_type": "code",
   "execution_count": 390,
   "metadata": {},
   "outputs": [
    {
     "data": {
      "text/plain": [
       "{'C': array([1.0000e-05, 5.0010e-02, 1.0001e-01, 1.5001e-01, 2.0001e-01,\n",
       "        2.5001e-01, 3.0001e-01, 3.5001e-01, 4.0001e-01, 4.5001e-01,\n",
       "        5.0001e-01, 5.5001e-01, 6.0001e-01, 6.5001e-01, 7.0001e-01,\n",
       "        7.5001e-01, 8.0001e-01, 8.5001e-01, 9.0001e-01, 9.5001e-01])}"
      ]
     },
     "execution_count": 390,
     "metadata": {},
     "output_type": "execute_result"
    }
   ],
   "source": [
    "grid_results.param_grid"
   ]
  },
  {
   "cell_type": "code",
   "execution_count": 391,
   "metadata": {},
   "outputs": [
    {
     "data": {
      "text/plain": [
       "0.15001000000000003"
      ]
     },
     "execution_count": 391,
     "metadata": {},
     "output_type": "execute_result"
    }
   ],
   "source": [
    "grid_results.param_grid['C'][3]"
   ]
  },
  {
   "cell_type": "code",
   "execution_count": 392,
   "metadata": {},
   "outputs": [
    {
     "data": {
      "text/plain": [
       "array([0.00391414, 0.02310606, 0.03131313, 0.03955177, 0.04412879,\n",
       "       0.04857955, 0.05265152, 0.0551452 , 0.05801768, 0.06161616,\n",
       "       0.06414141, 0.06726641, 0.06922348, 0.07152778, 0.07320076,\n",
       "       0.07493687, 0.07651515, 0.07784091, 0.07875631, 0.08068182])"
      ]
     },
     "execution_count": 392,
     "metadata": {},
     "output_type": "execute_result"
    }
   ],
   "source": [
    "grid_results.cv_results_['mean_train_score'] - grid_results.cv_results_['mean_test_score']"
   ]
  },
  {
   "cell_type": "code",
   "execution_count": 402,
   "metadata": {},
   "outputs": [
    {
     "name": "stdout",
     "output_type": "stream",
     "text": [
      "87.63 0.95\n"
     ]
    }
   ],
   "source": [
    "# Create pipeline and Cross-Validate\n",
    "from sklearn.pipeline import make_pipeline, Pipeline\n",
    "\n",
    "X = data['cleaned_tweets_with_final_SW']\n",
    "y = data['label']\n",
    "\n",
    "CV = CountVectorizer()\n",
    "LR2 = LogisticRegression(class_weight='balanced', solver='liblinear', penalty='l2', C=0.15)\n",
    "\n",
    "CV_pipe = Pipeline([('CV', CV), ('LR2', LR2)])\n",
    "\n",
    "results = cross_val_score(CV_pipe, X, y, cv=kfold, scoring='accuracy')\n",
    "print(np.round((results.mean()) * 100, 2), np.round((results.std()) * 100, 2))"
   ]
  },
  {
   "cell_type": "code",
   "execution_count": 395,
   "metadata": {},
   "outputs": [
    {
     "data": {
      "text/plain": [
       "{'CV': CountVectorizer(),\n",
       " 'LR2': LogisticRegression(C=0.15, class_weight='balanced', solver='liblinear')}"
      ]
     },
     "execution_count": 395,
     "metadata": {},
     "output_type": "execute_result"
    }
   ],
   "source": [
    "CV_pipe.named_steps"
   ]
  },
  {
   "cell_type": "code",
   "execution_count": 396,
   "metadata": {},
   "outputs": [
    {
     "data": {
      "text/html": [
       "<style>#sk-container-id-2 {color: black;}#sk-container-id-2 pre{padding: 0;}#sk-container-id-2 div.sk-toggleable {background-color: white;}#sk-container-id-2 label.sk-toggleable__label {cursor: pointer;display: block;width: 100%;margin-bottom: 0;padding: 0.3em;box-sizing: border-box;text-align: center;}#sk-container-id-2 label.sk-toggleable__label-arrow:before {content: \"▸\";float: left;margin-right: 0.25em;color: #696969;}#sk-container-id-2 label.sk-toggleable__label-arrow:hover:before {color: black;}#sk-container-id-2 div.sk-estimator:hover label.sk-toggleable__label-arrow:before {color: black;}#sk-container-id-2 div.sk-toggleable__content {max-height: 0;max-width: 0;overflow: hidden;text-align: left;background-color: #f0f8ff;}#sk-container-id-2 div.sk-toggleable__content pre {margin: 0.2em;color: black;border-radius: 0.25em;background-color: #f0f8ff;}#sk-container-id-2 input.sk-toggleable__control:checked~div.sk-toggleable__content {max-height: 200px;max-width: 100%;overflow: auto;}#sk-container-id-2 input.sk-toggleable__control:checked~label.sk-toggleable__label-arrow:before {content: \"▾\";}#sk-container-id-2 div.sk-estimator input.sk-toggleable__control:checked~label.sk-toggleable__label {background-color: #d4ebff;}#sk-container-id-2 div.sk-label input.sk-toggleable__control:checked~label.sk-toggleable__label {background-color: #d4ebff;}#sk-container-id-2 input.sk-hidden--visually {border: 0;clip: rect(1px 1px 1px 1px);clip: rect(1px, 1px, 1px, 1px);height: 1px;margin: -1px;overflow: hidden;padding: 0;position: absolute;width: 1px;}#sk-container-id-2 div.sk-estimator {font-family: monospace;background-color: #f0f8ff;border: 1px dotted black;border-radius: 0.25em;box-sizing: border-box;margin-bottom: 0.5em;}#sk-container-id-2 div.sk-estimator:hover {background-color: #d4ebff;}#sk-container-id-2 div.sk-parallel-item::after {content: \"\";width: 100%;border-bottom: 1px solid gray;flex-grow: 1;}#sk-container-id-2 div.sk-label:hover label.sk-toggleable__label {background-color: #d4ebff;}#sk-container-id-2 div.sk-serial::before {content: \"\";position: absolute;border-left: 1px solid gray;box-sizing: border-box;top: 0;bottom: 0;left: 50%;z-index: 0;}#sk-container-id-2 div.sk-serial {display: flex;flex-direction: column;align-items: center;background-color: white;padding-right: 0.2em;padding-left: 0.2em;position: relative;}#sk-container-id-2 div.sk-item {position: relative;z-index: 1;}#sk-container-id-2 div.sk-parallel {display: flex;align-items: stretch;justify-content: center;background-color: white;position: relative;}#sk-container-id-2 div.sk-item::before, #sk-container-id-2 div.sk-parallel-item::before {content: \"\";position: absolute;border-left: 1px solid gray;box-sizing: border-box;top: 0;bottom: 0;left: 50%;z-index: -1;}#sk-container-id-2 div.sk-parallel-item {display: flex;flex-direction: column;z-index: 1;position: relative;background-color: white;}#sk-container-id-2 div.sk-parallel-item:first-child::after {align-self: flex-end;width: 50%;}#sk-container-id-2 div.sk-parallel-item:last-child::after {align-self: flex-start;width: 50%;}#sk-container-id-2 div.sk-parallel-item:only-child::after {width: 0;}#sk-container-id-2 div.sk-dashed-wrapped {border: 1px dashed gray;margin: 0 0.4em 0.5em 0.4em;box-sizing: border-box;padding-bottom: 0.4em;background-color: white;}#sk-container-id-2 div.sk-label label {font-family: monospace;font-weight: bold;display: inline-block;line-height: 1.2em;}#sk-container-id-2 div.sk-label-container {text-align: center;}#sk-container-id-2 div.sk-container {/* jupyter's `normalize.less` sets `[hidden] { display: none; }` but bootstrap.min.css set `[hidden] { display: none !important; }` so we also need the `!important` here to be able to override the default hidden behavior on the sphinx rendered scikit-learn.org. See: https://github.com/scikit-learn/scikit-learn/issues/21755 */display: inline-block !important;position: relative;}#sk-container-id-2 div.sk-text-repr-fallback {display: none;}</style><div id=\"sk-container-id-2\" class=\"sk-top-container\"><div class=\"sk-text-repr-fallback\"><pre>Pipeline(steps=[(&#x27;CV&#x27;, CountVectorizer()),\n",
       "                (&#x27;LR2&#x27;,\n",
       "                 LogisticRegression(C=0.15, class_weight=&#x27;balanced&#x27;,\n",
       "                                    solver=&#x27;liblinear&#x27;))])</pre><b>In a Jupyter environment, please rerun this cell to show the HTML representation or trust the notebook. <br />On GitHub, the HTML representation is unable to render, please try loading this page with nbviewer.org.</b></div><div class=\"sk-container\" hidden><div class=\"sk-item sk-dashed-wrapped\"><div class=\"sk-label-container\"><div class=\"sk-label sk-toggleable\"><input class=\"sk-toggleable__control sk-hidden--visually\" id=\"sk-estimator-id-4\" type=\"checkbox\" ><label for=\"sk-estimator-id-4\" class=\"sk-toggleable__label sk-toggleable__label-arrow\">Pipeline</label><div class=\"sk-toggleable__content\"><pre>Pipeline(steps=[(&#x27;CV&#x27;, CountVectorizer()),\n",
       "                (&#x27;LR2&#x27;,\n",
       "                 LogisticRegression(C=0.15, class_weight=&#x27;balanced&#x27;,\n",
       "                                    solver=&#x27;liblinear&#x27;))])</pre></div></div></div><div class=\"sk-serial\"><div class=\"sk-item\"><div class=\"sk-estimator sk-toggleable\"><input class=\"sk-toggleable__control sk-hidden--visually\" id=\"sk-estimator-id-5\" type=\"checkbox\" ><label for=\"sk-estimator-id-5\" class=\"sk-toggleable__label sk-toggleable__label-arrow\">CountVectorizer</label><div class=\"sk-toggleable__content\"><pre>CountVectorizer()</pre></div></div></div><div class=\"sk-item\"><div class=\"sk-estimator sk-toggleable\"><input class=\"sk-toggleable__control sk-hidden--visually\" id=\"sk-estimator-id-6\" type=\"checkbox\" ><label for=\"sk-estimator-id-6\" class=\"sk-toggleable__label sk-toggleable__label-arrow\">LogisticRegression</label><div class=\"sk-toggleable__content\"><pre>LogisticRegression(C=0.15, class_weight=&#x27;balanced&#x27;, solver=&#x27;liblinear&#x27;)</pre></div></div></div></div></div></div></div>"
      ],
      "text/plain": [
       "Pipeline(steps=[('CV', CountVectorizer()),\n",
       "                ('LR2',\n",
       "                 LogisticRegression(C=0.15, class_weight='balanced',\n",
       "                                    solver='liblinear'))])"
      ]
     },
     "execution_count": 396,
     "metadata": {},
     "output_type": "execute_result"
    }
   ],
   "source": [
    "CV_pipe.fit(X, y)"
   ]
  },
  {
   "cell_type": "code",
   "execution_count": 397,
   "metadata": {},
   "outputs": [
    {
     "data": {
      "text/plain": [
       "16167"
      ]
     },
     "execution_count": 397,
     "metadata": {},
     "output_type": "execute_result"
    }
   ],
   "source": [
    "len(CV_pipe['CV'].vocabulary_) # CV with stopwords applied and word_len > 2"
   ]
  },
  {
   "cell_type": "code",
   "execution_count": 398,
   "metadata": {},
   "outputs": [
    {
     "data": {
      "text/plain": [
       "{'fingerprint': 4619,\n",
       " 'pregnancy': 11078,\n",
       " 'test': 14035,\n",
       " 'android': 460,\n",
       " 'apps': 694,\n",
       " 'beautiful': 1241,\n",
       " 'cute': 3095,\n",
       " 'health': 6001,\n",
       " 'igers': 6515,\n",
       " 'iphoneonly': 7096,\n",
       " 'iphonesia': 7109,\n",
       " 'iphone': 7060,\n",
       " 'finally': 4603,\n",
       " 'transparant': 14469,\n",
       " 'silicon': 12762,\n",
       " 'case': 2195,\n",
       " 'thanks': 14077,\n",
       " 'uncle': 14792,\n",
       " 'yay': 15915,\n",
       " 'sony': 13091,\n",
       " 'xperia': 15833,\n",
       " 'sonyexperias': 13102,\n",
       " 'love': 8379,\n",
       " 'talk': 13835,\n",
       " 'makememories': 8598,\n",
       " 'unplug': 14855,\n",
       " 'relax': 11746,\n",
       " 'smartphone': 12938,\n",
       " 'wifi': 15540,\n",
       " 'connect': 2777,\n",
       " 'wired': 15586,\n",
       " 'know': 7746,\n",
       " 'george': 5259,\n",
       " 'way': 15346,\n",
       " 'daventry': 3210,\n",
       " 'home': 6200,\n",
       " 'amazing': 389,\n",
       " 'service': 12527,\n",
       " 'apple': 604,\n",
       " 'question': 11425,\n",
       " 'unless': 14844,\n",
       " 'pay': 10510,\n",
       " 'stupid': 13531,\n",
       " 'support': 13665,\n",
       " 'software': 13042,\n",
       " 'update': 14880,\n",
       " 'fucked': 4988,\n",
       " 'big': 1428,\n",
       " 'time': 14269,\n",
       " 'iphones': 7105,\n",
       " 'happy': 5859,\n",
       " 'instapic': 6930,\n",
       " 'instadaily': 6816,\n",
       " 'xperiaz': 15847,\n",
       " 'new': 9673,\n",
       " 'type': 14697,\n",
       " 'charger': 2329,\n",
       " 'cable': 2020,\n",
       " 'bay': 1176,\n",
       " 'amazon': 392,\n",
       " 'etsy': 4207,\n",
       " 'year': 15932,\n",
       " 'rob': 12009,\n",
       " 'cross': 3015,\n",
       " 'toby': 14331,\n",
       " 'young': 16024,\n",
       " 'evemun': 4229,\n",
       " 'mcmafia': 8794,\n",
       " 'taylor': 13892,\n",
       " 'spectre': 13237,\n",
       " 'newyear': 9737,\n",
       " 'starting': 13362,\n",
       " 'recipe': 11634,\n",
       " 'technology': 13954,\n",
       " 'samsunggalaxys': 12237,\n",
       " 'iphonex': 7120,\n",
       " 'pic': 10731,\n",
       " 'pjiwq': 10835,\n",
       " 'wtc': 15746,\n",
       " 'bout': 1736,\n",
       " 'shopping': 12683,\n",
       " 'listening': 8184,\n",
       " 'music': 9388,\n",
       " 'justme': 7541,\n",
       " 'likeforlike': 8128,\n",
       " 'followforfollow': 4760,\n",
       " 'photo': 10679,\n",
       " 'fun': 5037,\n",
       " 'selfie': 12472,\n",
       " 'pool': 10965,\n",
       " 'water': 15331,\n",
       " 'camera': 2058,\n",
       " 'picoftheday': 10745,\n",
       " 'sun': 13612,\n",
       " 'instagood': 6857,\n",
       " 'boy': 1753,\n",
       " 'outdoor': 10312,\n",
       " 'hey': 6080,\n",
       " 'make': 8593,\n",
       " 'ipod': 7130,\n",
       " 'color': 2651,\n",
       " 'inch': 6687,\n",
       " 'thinner': 14189,\n",
       " 'crash': 2966,\n",
       " 'fuckin': 4994,\n",
       " 'minite': 9034,\n",
       " 'heavy': 6027,\n",
       " 'machinery': 8515,\n",
       " 'need': 9599,\n",
       " 'really': 11605,\n",
       " 'dropped': 3768,\n",
       " 'ball': 1085,\n",
       " 'design': 3370,\n",
       " 'drinkyourhaterade': 3748,\n",
       " 'contemplating': 2804,\n",
       " 'giving': 5370,\n",
       " 'bandwagon': 1105,\n",
       " 'simply': 12781,\n",
       " 'cellcom': 2272,\n",
       " 'depressing': 3353,\n",
       " 'idontwantto': 6483,\n",
       " 'crazy': 2971,\n",
       " 'purchase': 11315,\n",
       " 'lol': 8282,\n",
       " 'theory': 14142,\n",
       " 'work': 15663,\n",
       " 'hard': 5870,\n",
       " 'play': 10867,\n",
       " 'ipad': 7043,\n",
       " 'shaqlockholmes': 12590,\n",
       " 'sam': 12204,\n",
       " 'louise': 8373,\n",
       " 'battery': 1171,\n",
       " 'painful': 10381,\n",
       " 'charge': 2326,\n",
       " 'overnight': 10335,\n",
       " 'lunchtime': 8455,\n",
       " 'dead': 3243,\n",
       " 'hateorange': 5937,\n",
       " 'deepellum': 3286,\n",
       " 'downtown': 3705,\n",
       " 'dallas': 3155,\n",
       " 'bigd': 1439,\n",
       " 'saturday': 12323,\n",
       " 'summer': 13605,\n",
       " 'urban': 14905,\n",
       " 'like': 8121,\n",
       " 'share': 12591,\n",
       " 'want': 15284,\n",
       " 'gfkn': 5299,\n",
       " 'yec': 15937,\n",
       " 'instagram': 6860,\n",
       " 'photooftheday': 10708,\n",
       " 'tweegram': 14643,\n",
       " 'reason': 11615,\n",
       " 'suck': 13573,\n",
       " 'truth': 14570,\n",
       " 'truthbetold': 14571,\n",
       " 'agree': 231,\n",
       " 'fact': 4364,\n",
       " 'realitycheck': 11601,\n",
       " 'blackberrypic': 1514,\n",
       " 'zpggd': 16145,\n",
       " 'cazn': 2240,\n",
       " 'store': 13457,\n",
       " 'gunna': 5718,\n",
       " 'screen': 12398,\n",
       " 'monday': 9191,\n",
       " 'fucking': 4995,\n",
       " 'fuckingpissed': 4997,\n",
       " 'art': 769,\n",
       " 'easter': 3903,\n",
       " 'dear': 3251,\n",
       " 'friend': 4935,\n",
       " 'published': 11274,\n",
       " 'channel': 2322,\n",
       " 'face': 4346,\n",
       " 'bunny': 1953,\n",
       " 'email': 4046,\n",
       " 'png': 10918,\n",
       " 'thumbnail': 14234,\n",
       " 'mutita': 9423,\n",
       " 'edibleart': 3945,\n",
       " 'gmail': 5413,\n",
       " 'compic': 2720,\n",
       " 'jhwphfbgt': 7396,\n",
       " 'excuse': 4271,\n",
       " 'waiter': 15251,\n",
       " 'pie': 10762,\n",
       " 'soup': 13178,\n",
       " 'wife': 15538,\n",
       " 'bake': 1073,\n",
       " 'day': 3219,\n",
       " 'button': 1986,\n",
       " 'broke': 1868,\n",
       " 'accidentally': 78,\n",
       " 'hit': 6139,\n",
       " 'go': 5423,\n",
       " 'completely': 2728,\n",
       " 'black': 1505,\n",
       " 'getting': 5290,\n",
       " 'text': 14041,\n",
       " 'check': 2358,\n",
       " 'thiphone': 14191,\n",
       " 'wallpaper': 15274,\n",
       " 'wall': 15268,\n",
       " 'galaxy': 5110,\n",
       " 'samsung': 12217,\n",
       " 'app': 589,\n",
       " 'billion': 1458,\n",
       " 'patent': 10479,\n",
       " 'prior': 11149,\n",
       " 'million': 9003,\n",
       " 'troll': 14543,\n",
       " 'partying': 10455,\n",
       " 'messed': 8906,\n",
       " 'myloss': 9465,\n",
       " 'touch': 14410,\n",
       " 'frozen': 4963,\n",
       " 'logo': 8280,\n",
       " 'start': 13360,\n",
       " 'lose': 8351,\n",
       " 'demi': 3334,\n",
       " 'kill': 7681,\n",
       " 'soangry': 13013,\n",
       " 'hateapple': 5910,\n",
       " 'flower': 4727,\n",
       " 'green': 5629,\n",
       " 'diamond': 3445,\n",
       " 'pearl': 10546,\n",
       " 'watch': 15324,\n",
       " 'youtube': 16038,\n",
       " 'subscribe': 13556,\n",
       " 'daily': 3145,\n",
       " 'vlog': 15166,\n",
       " 'twitch': 14669,\n",
       " 'gaming': 5166,\n",
       " 'xbox': 15781,\n",
       " 'game': 5145,\n",
       " 'io': 7024,\n",
       " 'thank': 14072,\n",
       " 'live': 8206,\n",
       " 'laugh': 7933,\n",
       " 'life': 8091,\n",
       " 'food': 4778,\n",
       " 'philippine': 10644,\n",
       " 'instago': 6855,\n",
       " 'instahub': 6884,\n",
       " 'cannon': 2100,\n",
       " 'suewee': 13585,\n",
       " 'friendship': 4938,\n",
       " 'americanbully': 411,\n",
       " 'dog': 3605,\n",
       " 'piggy': 10772,\n",
       " 'family': 4401,\n",
       " 'southerncharm': 13188,\n",
       " 'americanidol': 412,\n",
       " 'goal': 5425,\n",
       " 'bestfriends': 1352,\n",
       " 'pitbull': 10817,\n",
       " 'onelove': 10160,\n",
       " 'country': 2905,\n",
       " 'muscle': 9382,\n",
       " 'nfl': 9757,\n",
       " 'worldwide': 15702,\n",
       " 'america': 408,\n",
       " 'bigboy': 1436,\n",
       " 'thislife': 14206,\n",
       " 'tmz': 14323,\n",
       " 'wild': 15548,\n",
       " 'hoggpic': 6171,\n",
       " 'ogpi': 10100,\n",
       " 'mimmo': 9011,\n",
       " 'feb': 4487,\n",
       " 'taken': 13826,\n",
       " 'direzioneverticale': 3495,\n",
       " 'sunset': 13637,\n",
       " 'sky': 12857,\n",
       " 'cxifijj': 3115,\n",
       " 'sister': 12817,\n",
       " 'bought': 1731,\n",
       " 'early': 3879,\n",
       " 'gift': 5322,\n",
       " 'received': 11626,\n",
       " 'note': 9915,\n",
       " 'cottds': 2898,\n",
       " 'nswrl': 9985,\n",
       " 'market': 8702,\n",
       " 'pipeline': 10809,\n",
       " 'delete': 3311,\n",
       " 'individual': 6724,\n",
       " 'song': 13080,\n",
       " 'itunes': 7223,\n",
       " 'everybody': 4238,\n",
       " 'freaking': 4886,\n",
       " 'duuude': 3834,\n",
       " 'window': 15562,\n",
       " 'phone': 10654,\n",
       " 'advanced': 168,\n",
       " 'customization': 3090,\n",
       " 'standing': 13350,\n",
       " 'sirri': 12812,\n",
       " 'iously': 7042,\n",
       " 'bad': 1036,\n",
       " 'cheap': 2354,\n",
       " 're': 11580,\n",
       " 'tech': 13937,\n",
       " 'bull': 1935,\n",
       " 'instasize': 6949,\n",
       " 'legging': 8018,\n",
       " 'lightskin': 8118,\n",
       " 'curlyhair': 3070,\n",
       " 'bellypiercing': 1313,\n",
       " 'smile': 12955,\n",
       " 'potd': 11021,\n",
       " 'din': 3479,\n",
       " 'create': 2979,\n",
       " 'let': 8051,\n",
       " 'destroy': 3395,\n",
       " 'candid': 2089,\n",
       " 'sunday': 13613,\n",
       " 'sundayvibes': 13625,\n",
       " 'eye': 4335,\n",
       " 'ootd': 10208,\n",
       " 'fashion': 4431,\n",
       " 'blackandwhite': 1508,\n",
       " 'poser': 11006,\n",
       " 'attitude': 879,\n",
       " 'lifeisgood': 8097,\n",
       " 'mylook': 9464,\n",
       " 'mylife': 9458,\n",
       " 'photoeveryday': 10689,\n",
       " 'lookoftheday': 8326,\n",
       " 'latepost': 7923,\n",
       " 'mylifepic': 9459,\n",
       " 'mmhcqyad': 9112,\n",
       " 'film': 4586,\n",
       " 'set': 12532,\n",
       " 'building': 1931,\n",
       " 'lapse': 7898,\n",
       " 'video': 15087,\n",
       " 'producer': 11170,\n",
       " 'videoproduction': 15095,\n",
       " 'commercial': 2691,\n",
       " 'actor': 115,\n",
       " 'actress': 117,\n",
       " 'hollywood': 6191,\n",
       " 'losangeles': 8349,\n",
       " 'movie': 9294,\n",
       " 'acting': 107,\n",
       " 'startup': 13365,\n",
       " 'startupvideos': 13367,\n",
       " 'shotoniphonpic': 12697,\n",
       " 'eceiaine': 3927,\n",
       " 'cupcake': 3058,\n",
       " 'pink': 10791,\n",
       " 'sweet': 13737,\n",
       " 'cherry': 2385,\n",
       " 'eeeeee': 3964,\n",
       " 'sexy': 12553,\n",
       " 'lady': 7846,\n",
       " 'iphon': 7059,\n",
       " 'acquisto': 103,\n",
       " 'del': 3303,\n",
       " 'week': 15405,\n",
       " 'end': 4089,\n",
       " 'plus': 10907,\n",
       " 'gril': 5647,\n",
       " 'moment': 9179,\n",
       " 'italy': 7191,\n",
       " 'majestic': 8584,\n",
       " 'differently': 3466,\n",
       " 'photography': 10696,\n",
       " 'nature': 9561,\n",
       " 'landscape': 7887,\n",
       " 'forest': 4806,\n",
       " 'hidden': 6095,\n",
       " 'clearing': 2548,\n",
       " 'view': 15099,\n",
       " 'wood': 15643,\n",
       " 'tree': 14503,\n",
       " 'travel': 14476,\n",
       " 'biker': 1452,\n",
       " 'ziess': 16121,\n",
       " 'instgramhub': 6970,\n",
       " 'google': 5514,\n",
       " 'cut': 3094,\n",
       " 'program': 11185,\n",
       " 'ahhhh': 246,\n",
       " 'look': 8316,\n",
       " 'christmas': 2471,\n",
       " 'girl': 5347,\n",
       " 'instacool': 6810,\n",
       " 'bitcoinboy': 1492,\n",
       " 'free': 4891,\n",
       " 'kansa': 7576,\n",
       " 'georgia': 5262,\n",
       " 'ogochocinco': 10099,\n",
       " 'talking': 13837,\n",
       " 'antoine': 553,\n",
       " 'ent': 4128,\n",
       " 'appstore': 696,\n",
       " 'joy': 7477,\n",
       " 'peace': 10535,\n",
       " 'reflect': 11695,\n",
       " 'remember': 11767,\n",
       " 'cloud': 2575,\n",
       " 'cloudhub': 2576,\n",
       " 'skyhub': 12859,\n",
       " 'baby': 1005,\n",
       " 'babyboy': 1006,\n",
       " 'muesli': 9349,\n",
       " 'hedgehog': 6030,\n",
       " 'pet': 10619,\n",
       " 'inbox': 6682,\n",
       " 'letter': 8058,\n",
       " 'editor': 3951,\n",
       " 'news': 9724,\n",
       " 'fail': 4372,\n",
       " 'funny': 5050,\n",
       " 'lolpic': 8292,\n",
       " 'rhumovz': 11923,\n",
       " 'zsofimonster': 16148,\n",
       " 'faster': 4446,\n",
       " 'hated': 5916,\n",
       " 'jamesdawute': 7295,\n",
       " 'tablet': 13800,\n",
       " 'personally': 10614,\n",
       " 'use': 14927,\n",
       " 'sense': 12502,\n",
       " 'fan': 4410,\n",
       " 'think': 14180,\n",
       " 'quite': 11444,\n",
       " 'product': 11175,\n",
       " 'friday': 4928,\n",
       " 'called': 2048,\n",
       " 'blackfridaydeals': 1520,\n",
       " 'blackfriday': 1519,\n",
       " 'shop': 12678,\n",
       " 'holiday': 6182,\n",
       " 'newyork': 9741,\n",
       " 'business': 1971,\n",
       " 'crowd': 3019,\n",
       " 'money': 9196,\n",
       " 'birthday': 1478,\n",
       " 'computer': 2739,\n",
       " 'lifehacks': 8093,\n",
       " 'school': 12376,\n",
       " 'seriously': 12521,\n",
       " 'afraid': 200,\n",
       " 'profit': 11182,\n",
       " 'going': 5455,\n",
       " 'pocket': 10921,\n",
       " 'supported': 13666,\n",
       " 'po': 10920,\n",
       " 'month': 9216,\n",
       " 'good': 5474,\n",
       " 'job': 7429,\n",
       " 'actually': 119,\n",
       " 'killing': 7685,\n",
       " 'paying': 10513,\n",
       " 'replacement': 11796,\n",
       " 'programmed': 11187,\n",
       " 'basic': 1150,\n",
       " 'sloan': 12899,\n",
       " 'lovescudi': 8391,\n",
       " 'droid': 3757,\n",
       " 'wait': 15248,\n",
       " 'double': 3682,\n",
       " 'saw': 12340,\n",
       " 'alyssa': 375,\n",
       " 'cool': 2837,\n",
       " 'picture': 10757,\n",
       " 'cycle': 3124,\n",
       " 'complete': 2726,\n",
       " 'froot': 4956,\n",
       " 'run': 12137,\n",
       " 'beach': 1206,\n",
       " 'sport': 13291,\n",
       " 'tysonj': 14707,\n",
       " 'bit': 1486,\n",
       " 'hypocritical': 6404,\n",
       " 'hashtag': 5901,\n",
       " 'quivering': 11445,\n",
       " 'anticipation': 548,\n",
       " 'arrival': 751,\n",
       " 'gain': 5105,\n",
       " 'follower': 4758,\n",
       " 'rts': 12107,\n",
       " 'sougofollow': 13168,\n",
       " 'geometry': 5258,\n",
       " 'iphoneography': 7093,\n",
       " 'streetphotography': 13486,\n",
       " 'iphonephotography': 7098,\n",
       " 'mobilephotography': 9138,\n",
       " 'bright': 1843,\n",
       " 'user': 14932,\n",
       " 'fettish': 4538,\n",
       " 'techno': 13950,\n",
       " 'indie': 6717,\n",
       " 'dating': 3205,\n",
       " 'okcupid': 10119,\n",
       " 'random': 11516,\n",
       " 'instamood': 6909,\n",
       " 'loljk': 8285,\n",
       " 'shine': 12636,\n",
       " 'wine': 15566,\n",
       " 'amaliexmaria': 379,\n",
       " 'copenhagen': 2848,\n",
       " 'creative': 2985,\n",
       " 'composer': 2735,\n",
       " 'denmark': 3347,\n",
       " 'hot': 6284,\n",
       " 'iconic': 6452,\n",
       " 'keepthefaith': 7616,\n",
       " 'mariajensen': 8689,\n",
       " 'original': 10270,\n",
       " 'pop': 10971,\n",
       " 'red': 11655,\n",
       " 'rock': 12020,\n",
       " 'soul': 13169,\n",
       " 'singer': 12793,\n",
       " 'songwriter': 13081,\n",
       " 'universal': 14834,\n",
       " 'warnerpic': 15304,\n",
       " 'gbeusyed': 5202,\n",
       " 'tescophoneshop': 14032,\n",
       " 'wedding': 15389,\n",
       " 'dvd': 3838,\n",
       " 'thought': 14214,\n",
       " 'lost': 8358,\n",
       " 'meliiecandy': 8850,\n",
       " 'ipadmini': 7047,\n",
       " 'soldes': 13058,\n",
       " 'instamoment': 6907,\n",
       " 'planeteig': 10849,\n",
       " 'feeling': 4502,\n",
       " 'broken': 1870,\n",
       " 'replaced': 11795,\n",
       " 'happiness': 5854,\n",
       " 'ygsuke': 15970,\n",
       " 'ce': 2256,\n",
       " 'light': 8109,\n",
       " 'lamp': 7878,\n",
       " 'pekanbaru': 10565,\n",
       " 'riau': 11925,\n",
       " 'indonesia': 6725,\n",
       " 'sonya': 13092,\n",
       " 'acquisition': 102,\n",
       " 'gold': 5463,\n",
       " 'brussels': 1899,\n",
       " 'texted': 14042,\n",
       " 'reset': 11824,\n",
       " 'sorry': 13151,\n",
       " 'inception': 6686,\n",
       " 'white': 15503,\n",
       " 'tea': 13906,\n",
       " 'chilling': 2425,\n",
       " 'carcasa': 2151,\n",
       " 'clear': 2546,\n",
       " 'cover': 2924,\n",
       " 'para': 10426,\n",
       " 'grandprime': 5589,\n",
       " 'felizdomingo': 4517,\n",
       " 'samsunggalaxy': 12230,\n",
       " 'felizlunes': 4518,\n",
       " 'felizsemana': 4521,\n",
       " 'oct': 10068,\n",
       " 'felizmartespic': 4519,\n",
       " 'xtldsjwpz': 15869,\n",
       " 'mighty': 8979,\n",
       " 'mouse': 9284,\n",
       " 'came': 2056,\n",
       " 'lithium': 8194,\n",
       " 'magic': 8551,\n",
       " 'come': 2667,\n",
       " 'alkaline': 316,\n",
       " 'nyclesbians': 10020,\n",
       " 'followsunday': 4767,\n",
       " 'followback': 4757,\n",
       " 'teamfollowback': 13920,\n",
       " 'retweet': 11880,\n",
       " 'thing': 14177,\n",
       " 'samsunguk': 12264,\n",
       " 'tumble': 14603,\n",
       " 'dryer': 3785,\n",
       " 'problem': 11162,\n",
       " 'occurred': 10061,\n",
       " 'iwant': 7239,\n",
       " 'issue': 7177,\n",
       " 'resolved': 11835,\n",
       " 'able': 32,\n",
       " 'return': 11877,\n",
       " 'alexandraeton': 297,\n",
       " 'bbcwatchdog': 1185,\n",
       " 'lilya': 8151,\n",
       " 'sll': 12897,\n",
       " 'throwback': 14226,\n",
       " 'shoot': 12674,\n",
       " 'blury': 1619,\n",
       " 'btew': 1908,\n",
       " 'cnet': 2596,\n",
       " 'absurd': 45,\n",
       " 'price': 11126,\n",
       " 'device': 3416,\n",
       " 'commonwealth': 2696,\n",
       " 'skye': 12858,\n",
       " 'nicolson': 9779,\n",
       " 'win': 15559,\n",
       " 'boxing': 1750,\n",
       " 'memory': 8869,\n",
       " 'brother': 1877,\n",
       " 'adaptive': 125,\n",
       " 'galatasaray': 5108,\n",
       " 'iherborder': 6559,\n",
       " 'presidenttrump': 11100,\n",
       " 'comment': 2689,\n",
       " 'lip': 8173,\n",
       " 'getalife': 5274,\n",
       " 'tecshit': 13969,\n",
       " 'enjoying': 4119,\n",
       " 'tombraider': 14350,\n",
       " 'laracroft': 7903,\n",
       " 'playstation': 10883,\n",
       " 'gamer': 5151,\n",
       " 'hunger': 6365,\n",
       " 'simpson': 12783,\n",
       " 'thehungergames': 14121,\n",
       " 'wrong': 15742,\n",
       " 'right': 11944,\n",
       " 'today': 14334,\n",
       " 'item': 7200,\n",
       " 'jammieexoxo': 7298,\n",
       " 'recommends': 11641,\n",
       " 'earphone': 3892,\n",
       " 'earpods': 3893,\n",
       " 'lifestyle': 8106,\n",
       " 'fuckyou': 5021,\n",
       " 'ending': 4092,\n",
       " 'bug': 1923,\n",
       " 'payed': 10512,\n",
       " 'buck': 1915,\n",
       " 'little': 8196,\n",
       " 'quality': 11407,\n",
       " 'anotherangrycustomer': 539,\n",
       " 'girlfriend': 5350,\n",
       " 'card': 2152,\n",
       " 'soppy': 13147,\n",
       " 'present': 11093,\n",
       " 'mom': 9176,\n",
       " 'macbookpro': 8507,\n",
       " 'macbook': 8505,\n",
       " 'stockholm': 13434,\n",
       " 'sweden': 13732,\n",
       " 'compute': 2738,\n",
       " 'quote': 11449,\n",
       " 'wisdom': 15594,\n",
       " 'word': 15659,\n",
       " 'tweetgram': 14651,\n",
       " 'applaud': 603,\n",
       " 'sheffield': 12617,\n",
       " 'customer': 3081,\n",
       " 'great': 5613,\n",
       " 'repair': 11787,\n",
       " 'hour': 6299,\n",
       " 'recovery': 11652,\n",
       " 'mode': 9152,\n",
       " 'mashable': 8734,\n",
       " 'hater': 5938,\n",
       " 'yousuck': 16036,\n",
       " 'briantong': 1831,\n",
       " 'easytotalk': 3911,\n",
       " 'producesomething': 11173,\n",
       " 'usa': 14921,\n",
       " 'company': 2705,\n",
       " 'korean': 7770,\n",
       " 'loser': 8352,\n",
       " 'working': 15674,\n",
       " 'server': 12526,\n",
       " 'dumb': 3817,\n",
       " 'scheduled': 12371,\n",
       " 'maintenance': 8580,\n",
       " 'model': 9153,\n",
       " 'byhilalak': 2008,\n",
       " 'urbanears': 14906,\n",
       " 'handmade': 5820,\n",
       " 'hayatinarenkkat': 5970,\n",
       " 'vicio': 15074,\n",
       " 'nellyfurtado': 9627,\n",
       " 'nelstar': 9630,\n",
       " 'playingnow': 10877,\n",
       " 'diva': 3559,\n",
       " 'cd': 2252,\n",
       " 'feature': 4486,\n",
       " 'yourtechcompany': 16034,\n",
       " 'iza': 7257,\n",
       " 'box': 1745,\n",
       " 'yey': 15965,\n",
       " 'sonyxperiaz': 13134,\n",
       " 'blessed': 1556,\n",
       " 'feliz': 4516,\n",
       " 'bado': 1049,\n",
       " 'caf': 2027,\n",
       " 'coffee': 2625,\n",
       " 'pantry': 10417,\n",
       " 'dreamy': 3739,\n",
       " 'effect': 3969,\n",
       " 'created': 2980,\n",
       " 'straight': 13464,\n",
       " 'impressive': 6663,\n",
       " 'spring': 13301,\n",
       " 'blossom': 1593,\n",
       " 'finalllllly': 4601,\n",
       " 'galaxynote': 5125,\n",
       " 'awsome': 982,\n",
       " 'beamman': 1217,\n",
       " 'best': 1340,\n",
       " 'special': 13229,\n",
       " 'valentine': 14969,\n",
       " 'nowplaying': 9968,\n",
       " 'daughter': 3208,\n",
       " 'poem': 10926,\n",
       " 'erie': 4174,\n",
       " 'car': 2143,\n",
       " 'sign': 12747,\n",
       " 'iloveyou': 6611,\n",
       " 'lunch': 8454,\n",
       " 'park': 10441,\n",
       " 'carrot': 2177,\n",
       " 'banana': 1096,\n",
       " 'lovely': 8386,\n",
       " 'autumn': 930,\n",
       " 'leaf': 7982,\n",
       " 'confession': 2762,\n",
       " 'spend': 13250,\n",
       " 'confessing': 2761,\n",
       " 'faith': 4384,\n",
       " 'sin': 12787,\n",
       " 'book': 1682,\n",
       " 'flickr': 4701,\n",
       " 'say': 12342,\n",
       " 'fuck': 4984,\n",
       " 'took': 14365,\n",
       " 'download': 3699,\n",
       " 'hate': 5907,\n",
       " 'westcoast': 15446,\n",
       " 'huntington': 6370,\n",
       " 'added': 129,\n",
       " 'directory': 3494,\n",
       " 'york': 16014,\n",
       " 'education': 3960,\n",
       " 'losin': 8353,\n",
       " 'reception': 11630,\n",
       " 'missed': 9067,\n",
       " 'call': 2046,\n",
       " 'min': 9012,\n",
       " 'tmobile': 14319,\n",
       " 'jump': 7515,\n",
       " 'rid': 11934,\n",
       " 'absolutely': 44,\n",
       " 'taste': 13877,\n",
       " 'frank': 4873,\n",
       " 'ocean': 10063,\n",
       " 'annoying': 534,\n",
       " 'finish': 4620,\n",
       " 'level': 8060,\n",
       " 'buy': 1991,\n",
       " 'version': 15045,\n",
       " 'wear': 15367,\n",
       " 'important': 6657,\n",
       " 'mood': 9222,\n",
       " 'bos': 1716,\n",
       " 'blog': 1577,\n",
       " 'style': 13541,\n",
       " 'wcw': 15358,\n",
       " 'wce': 15353,\n",
       " 'bestoftheday': 1368,\n",
       " 'pretty': 11111,\n",
       " 'babe': 999,\n",
       " 'wednesday': 15395,\n",
       " 'funpic': 5053,\n",
       " 'ggnuvxbv': 5305,\n",
       " 'natepgilbraith': 9542,\n",
       " 'send': 12498,\n",
       " 'turn': 14617,\n",
       " 'imessage': 6634,\n",
       " 'fanta': 4418,\n",
       " 'delish': 3324,\n",
       " 'sundayfunday': 13616,\n",
       " 'healing': 6000,\n",
       " 'sleep': 12874,\n",
       " 'lap': 7894,\n",
       " 'babygirl': 1008,\n",
       " 'popular': 10982,\n",
       " 'loverly': 8390,\n",
       " 'tweet': 14646,\n",
       " 'rabbitsofinstagram': 11464,\n",
       " 'bunniesofinstagram': 1952,\n",
       " 'rabbit': 11462,\n",
       " 'hop': 6255,\n",
       " 'bounce': 1733,\n",
       " 'charlie': 2337,\n",
       " 'houserabbit': 6303,\n",
       " 'bunnylove': 1954,\n",
       " 'rabbitsofig': 11463,\n",
       " 'shotoniphone': 12696,\n",
       " 'photographer': 10694,\n",
       " 'chuck': 2485,\n",
       " 'charles': 2333,\n",
       " 'gpw': 5560,\n",
       " 'nfuzwh': 9760,\n",
       " 'lucien': 8427,\n",
       " 'swarovski': 13724,\n",
       " 'crystal': 3036,\n",
       " 'vegan': 15008,\n",
       " 'glutenfree': 5410,\n",
       " 'silly': 12765,\n",
       " 'sally': 12198,\n",
       " 'diner': 3481,\n",
       " 'syncing': 13784,\n",
       " 'hear': 6014,\n",
       " 'second': 12441,\n",
       " 'mmlp': 9113,\n",
       " 'fml': 4734,\n",
       " 'candy': 2091,\n",
       " 'beatiful': 1231,\n",
       " 'beaty': 1236,\n",
       " 'nice': 9768,\n",
       " 'hand': 5813,\n",
       " 'spacegray': 13198,\n",
       " 'ogo': 10098,\n",
       " 'gkeopw': 5374,\n",
       " 'unpacking': 14854,\n",
       " 'compact': 2702,\n",
       " 'impression': 6662,\n",
       " 'blo': 1570,\n",
       " 'osu': 10286,\n",
       " 'muoneoz': 9375,\n",
       " 'progress': 11190,\n",
       " 'bar': 1127,\n",
       " 'key': 7643,\n",
       " 'long': 8305,\n",
       " 'cold': 2634,\n",
       " 'boot': 1695,\n",
       " 'fear': 4481,\n",
       " 'siri': 12806,\n",
       " 'understand': 14801,\n",
       " 'command': 2686,\n",
       " 'nephew': 9638,\n",
       " 'shot': 12693,\n",
       " 'endless': 4093,\n",
       " 'photoofthaday': 10707,\n",
       " 'literally': 8191,\n",
       " 'contact': 2802,\n",
       " 'andyvaughan': 485,\n",
       " 'wonder': 15634,\n",
       " 'available': 936,\n",
       " 'compare': 2707,\n",
       " 'fiiiiin': 4575,\n",
       " 'laptop': 7899,\n",
       " 'vaio': 14965,\n",
       " 'minnie': 9037,\n",
       " 'inlove': 6770,\n",
       " 'blackberry': 1511,\n",
       " 'occasionally': 10058,\n",
       " 'fruit': 4964,\n",
       " 'fall': 4388,\n",
       " 'worry': 15706,\n",
       " 'thou': 14213,\n",
       " 'soon': 13137,\n",
       " 'username': 14933,\n",
       " 'splinkio': 13276,\n",
       " 'thai': 14063,\n",
       " 'curry': 3074,\n",
       " 'yum': 16056,\n",
       " 'picoft': 10743,\n",
       " 'yosemite': 16016,\n",
       " 'steep': 13398,\n",
       " 'hill': 6120,\n",
       " 'climb': 2558,\n",
       " 'mac': 8499,\n",
       " 'kernel': 7637,\n",
       " 'serve': 12524,\n",
       " 'warning': 15305,\n",
       " 'display': 3535,\n",
       " 'brbrrylove': 1799,\n",
       " 'shesh': 12628,\n",
       " 'told': 14346,\n",
       " 'stop': 13447,\n",
       " 'mojo': 9170,\n",
       " 'ship': 12644,\n",
       " 'advertisement': 174,\n",
       " 'gear': 5219,\n",
       " 'past': 10469,\n",
       " 'sodepressed': 13031,\n",
       " 'samsunggalaxyftw': 12232,\n",
       " 'jewish': 7380,\n",
       " 'american': 409,\n",
       " 'single': 12796,\n",
       " 'paid': 10379,\n",
       " 'membership': 8861,\n",
       " 'capetownsup': 2123,\n",
       " 'sup': 13645,\n",
       " 'surf': 13682,\n",
       " 'capetown': 2122,\n",
       " 'final': 4596,\n",
       " 'pro': 11158,\n",
       " 'trial': 14520,\n",
       " 'aarrrggghhhh': 10,\n",
       " 'makingmylifesodifficultpic': 8611,\n",
       " 'lzs': 8495,\n",
       " 'zgi': 16111,\n",
       " 'half': 5797,\n",
       " 'downloaded': 3700,\n",
       " 'capitan': 2131,\n",
       " 'mistake': 9083,\n",
       " 'usefuckingtorrent': 14929,\n",
       " 'hooray': 6253,\n",
       " 'stuff': 13524,\n",
       " 'arrived': 753,\n",
       " 'excited': 4265,\n",
       " 'open': 10209,\n",
       " 'spaz': 13221,\n",
       " 'short': 12686,\n",
       " 'constantly': 2796,\n",
       " 'piss': 10812,\n",
       " 'officially': 10089,\n",
       " 'keyboard': 7644,\n",
       " 'okay': 10118,\n",
       " 'deepeshalways': 3287,\n",
       " 'ndtvgadgets': 9587,\n",
       " 'challenge': 2310,\n",
       " 'jury': 7527,\n",
       " 'decision': 3277,\n",
       " 'simple': 12777,\n",
       " 'an': 437,\n",
       " 'golden': 5464,\n",
       " 'state': 13370,\n",
       " 'warrior': 15308,\n",
       " 'colorful': 2656,\n",
       " 'installing': 6895,\n",
       " 'refuse': 11707,\n",
       " 'sync': 13780,\n",
       " 'slept': 12882,\n",
       " 'night': 9787,\n",
       " 'atlast': 862,\n",
       " 'father': 4451,\n",
       " 'son': 13079,\n",
       " 'crazyfriend': 2973,\n",
       " 'party': 10452,\n",
       " 'likeall': 8123,\n",
       " 'likeback': 8124,\n",
       " 'ortho': 10278,\n",
       " 'makeup': 8605,\n",
       " 'brace': 1769,\n",
       " 'match': 8746,\n",
       " 'lovematcher': 8387,\n",
       " 'valentinesday': 14972,\n",
       " 'playstationasia': 10884,\n",
       " 'february': 4488,\n",
       " 'gamers': 5158,\n",
       " 'college': 2645,\n",
       " 'portrait': 10999,\n",
       " 'sonyalpha': 13093,\n",
       " 'sonycamera': 13099,\n",
       " 'dof': 3604,\n",
       " 'bokeh': 1657,\n",
       " 'markt': 8707,\n",
       " 'hemd': 6064,\n",
       " 'schwarz': 12378,\n",
       " 'blacknwhite': 1528,\n",
       " 'grey': 5641,\n",
       " 'hacker': 5759,\n",
       " 'password': 10468,\n",
       " 'extra': 4324,\n",
       " 'zoom': 16140,\n",
       " 'deleted': 3313,\n",
       " 'stevejobs': 13409,\n",
       " 'tyrannical': 14705,\n",
       " 'reign': 11731,\n",
       " 'cultist': 3051,\n",
       " 'inkstagram': 6767,\n",
       " 'addiction': 133,\n",
       " 'wordphoto': 15661,\n",
       " 'dot': 3680,\n",
       " 'roche': 12018,\n",
       " 'prophet': 11217,\n",
       " 'husband': 6377,\n",
       " 'kindle': 7697,\n",
       " 'upgraded': 14885,\n",
       " 'instagramers': 6866,\n",
       " 'instalike': 6890,\n",
       " 'help': 6055,\n",
       " 'deliver': 3325,\n",
       " 'child': 2414,\n",
       " 'malaysia': 8618,\n",
       " 'uai': 14714,\n",
       " 'toyota': 14427,\n",
       " 'getbetterbatteries': 5277,\n",
       " 'tab': 13797,\n",
       " ...}"
      ]
     },
     "execution_count": 398,
     "metadata": {},
     "output_type": "execute_result"
    }
   ],
   "source": [
    "CV_pipe['CV'].vocabulary_"
   ]
  },
  {
   "cell_type": "markdown",
   "metadata": {},
   "source": [
    "### LR Model Without vs With Stop Words"
   ]
  },
  {
   "cell_type": "code",
   "execution_count": 407,
   "metadata": {},
   "outputs": [
    {
     "name": "stdout",
     "output_type": "stream",
     "text": [
      "86.84 0.89\n"
     ]
    }
   ],
   "source": [
    "# Create pipeline and Cross-Validate\n",
    "from sklearn.pipeline import make_pipeline, Pipeline\n",
    "\n",
    "X = data['cleaned_tweets_w/o_SW']\n",
    "y = data['label']\n",
    "\n",
    "# Added stop words, minimum document frequency, and maximum features parameters\n",
    "CV = CountVectorizer(stop_words=final_stopwords, min_df=10, max_features=None)\n",
    "LR2 = LogisticRegression(class_weight='balanced', solver='liblinear', penalty='l2', C=0.15)\n",
    "\n",
    "CV_pipe = Pipeline([('CV', CV), ('LR2', LR2)])\n",
    "\n",
    "results = cross_val_score(CV_pipe, X, y, cv=kfold, scoring='accuracy')\n",
    "print(np.round((results.mean()) * 100, 2), np.round((results.std()) * 100, 2))"
   ]
  },
  {
   "cell_type": "code",
   "execution_count": 408,
   "metadata": {},
   "outputs": [
    {
     "data": {
      "text/plain": [
       "1092"
      ]
     },
     "execution_count": 408,
     "metadata": {},
     "output_type": "execute_result"
    }
   ],
   "source": [
    "CV_pipe.fit(X, y)\n",
    "len(CV_pipe['CV'].vocabulary_)"
   ]
  },
  {
   "cell_type": "markdown",
   "metadata": {},
   "source": [
    "It can be seen now that even with the removal of about 14,000 words, the model accuracy and variance are hardly affected at all. This is because the words that were removed were not very important to the model. This is a good thing because it means that the model is not overfitting to the training data. Additionally, it can be seen that there is an improvement of the variance by a few percent with a minimal decrease in accuracy of less than 1 percent. This is a good thing because it means that the model is generalizing better to new data. The model is also far more computationally efficient from previously higher dimensional versions."
   ]
  }
 ],
 "metadata": {
  "kernelspec": {
   "display_name": "Python 3",
   "language": "python",
   "name": "python3"
  },
  "language_info": {
   "codemirror_mode": {
    "name": "ipython",
    "version": 3
   },
   "file_extension": ".py",
   "mimetype": "text/x-python",
   "name": "python",
   "nbconvert_exporter": "python",
   "pygments_lexer": "ipython3",
   "version": "3.11.5"
  }
 },
 "nbformat": 4,
 "nbformat_minor": 2
}
